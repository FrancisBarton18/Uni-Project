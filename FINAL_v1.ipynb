{
 "cells": [
  {
   "cell_type": "markdown",
   "metadata": {},
   "source": [
    "### 603 code"
   ]
  },
  {
   "cell_type": "markdown",
   "metadata": {},
   "source": [
    "### Question 1"
   ]
  },
  {
   "cell_type": "markdown",
   "metadata": {},
   "source": [
    "# A)"
   ]
  },
  {
   "cell_type": "code",
   "execution_count": null,
   "metadata": {},
   "outputs": [],
   "source": []
  },
  {
   "cell_type": "code",
   "execution_count": null,
   "metadata": {},
   "outputs": [],
   "source": [
    "import pandas as pd\n",
    "import numpy as np\n",
    "import datetime as dt\n",
    "import matplotlib.pyplot as plt\n",
    "from dateutil.relativedelta import *\n",
    "from pandas.tseries.offsets import *\n",
    "from scipy import stats\n",
    "import math\n",
    "%matplotlib inline"
   ]
  },
  {
   "cell_type": "code",
   "execution_count": null,
   "metadata": {},
   "outputs": [],
   "source": [
    "try:\n",
    "    import psycopg2\n",
    "except ImportError:\n",
    "    !pip install psycopg2"
   ]
  },
  {
   "cell_type": "code",
   "execution_count": 3,
   "metadata": {},
   "outputs": [],
   "source": [
    "try:\n",
    "    import wrds\n",
    "except ImportError:\n",
    "    !pip install wrds\n",
    "    "
   ]
  },
  {
   "cell_type": "code",
   "execution_count": 4,
   "metadata": {},
   "outputs": [],
   "source": [
    "try:\n",
    "    import cvxopt as opt\n",
    "except ImportError:\n",
    "    !pip install cvxopt"
   ]
  },
  {
   "cell_type": "code",
   "execution_count": 5,
   "metadata": {},
   "outputs": [],
   "source": [
    " from cvxopt import blas, solvers\n",
    "    \n",
    "solvers.options['show_progress']=False\n",
    "    \n",
    "import scipy.optimize as sco"
   ]
  },
  {
   "cell_type": "code",
   "execution_count": 6,
   "metadata": {},
   "outputs": [
    {
     "name": "stdout",
     "output_type": "stream",
     "text": [
      "Enter your WRDS username [bartonf]:barton\n",
      "Enter your password:········\n",
      "WRDS recommends setting up a .pgpass file.\n",
      "You can find more info here:\n",
      "https://www.postgresql.org/docs/9.5/static/libpq-pgpass.html.\n",
      "Loading library list...\n",
      "Done\n"
     ]
    }
   ],
   "source": [
    "conn = wrds.Connection()"
   ]
  },
  {
   "cell_type": "code",
   "execution_count": 7,
   "metadata": {},
   "outputs": [
    {
     "data": {
      "text/html": [
       "<div>\n",
       "<style scoped>\n",
       "    .dataframe tbody tr th:only-of-type {\n",
       "        vertical-align: middle;\n",
       "    }\n",
       "\n",
       "    .dataframe tbody tr th {\n",
       "        vertical-align: top;\n",
       "    }\n",
       "\n",
       "    .dataframe thead th {\n",
       "        text-align: right;\n",
       "    }\n",
       "</style>\n",
       "<table border=\"1\" class=\"dataframe\">\n",
       "  <thead>\n",
       "    <tr style=\"text-align: right;\">\n",
       "      <th></th>\n",
       "      <th>rf</th>\n",
       "      <th>mktrf</th>\n",
       "    </tr>\n",
       "  </thead>\n",
       "  <tbody>\n",
       "    <tr>\n",
       "      <th>0</th>\n",
       "      <td>0.0013</td>\n",
       "      <td>0.0153</td>\n",
       "    </tr>\n",
       "    <tr>\n",
       "      <th>1</th>\n",
       "      <td>0.0015</td>\n",
       "      <td>-0.0924</td>\n",
       "    </tr>\n",
       "    <tr>\n",
       "      <th>2</th>\n",
       "      <td>0.0008</td>\n",
       "      <td>-0.1723</td>\n",
       "    </tr>\n",
       "    <tr>\n",
       "      <th>3</th>\n",
       "      <td>0.0003</td>\n",
       "      <td>-0.0786</td>\n",
       "    </tr>\n",
       "    <tr>\n",
       "      <th>4</th>\n",
       "      <td>0.0000</td>\n",
       "      <td>0.0174</td>\n",
       "    </tr>\n",
       "  </tbody>\n",
       "</table>\n",
       "</div>"
      ],
      "text/plain": [
       "       rf   mktrf\n",
       "0  0.0013  0.0153\n",
       "1  0.0015 -0.0924\n",
       "2  0.0008 -0.1723\n",
       "3  0.0003 -0.0786\n",
       "4  0.0000  0.0174"
      ]
     },
     "execution_count": 7,
     "metadata": {},
     "output_type": "execute_result"
    }
   ],
   "source": [
    "# Dowload the data from the fama french factors library to be able to find the \n",
    "# market return for later beta calculation \n",
    "stat=\"\"\"\n",
    "Select rf, mktrf\n",
    "From ff.factors_monthly\n",
    "Where date between '2008-07-31' and '2019-01-01'\n",
    "\"\"\"\n",
    "datareg=conn.raw_sql(stat)\n",
    "datareg1=pd.DataFrame(datareg, columns=['rf','mktrf'])\n",
    "datareg1.head()"
   ]
  },
  {
   "cell_type": "code",
   "execution_count": 8,
   "metadata": {},
   "outputs": [
    {
     "data": {
      "text/plain": [
       "0.0002928571428571429"
      ]
     },
     "execution_count": 8,
     "metadata": {},
     "output_type": "execute_result"
    }
   ],
   "source": [
    "# Find the last riskfree rate for the later optimal porfolio calculation\n",
    "lastrfrate=datareg1.iloc[:,0].mean()\n",
    "lastrfrate"
   ]
  },
  {
   "cell_type": "code",
   "execution_count": 41,
   "metadata": {},
   "outputs": [
    {
     "data": {
      "text/html": [
       "<div>\n",
       "<style scoped>\n",
       "    .dataframe tbody tr th:only-of-type {\n",
       "        vertical-align: middle;\n",
       "    }\n",
       "\n",
       "    .dataframe tbody tr th {\n",
       "        vertical-align: top;\n",
       "    }\n",
       "\n",
       "    .dataframe thead th {\n",
       "        text-align: right;\n",
       "    }\n",
       "</style>\n",
       "<table border=\"1\" class=\"dataframe\">\n",
       "  <thead>\n",
       "    <tr style=\"text-align: right;\">\n",
       "      <th></th>\n",
       "      <th>cusip</th>\n",
       "      <th>permno</th>\n",
       "      <th>date</th>\n",
       "      <th>ret</th>\n",
       "      <th>prc</th>\n",
       "    </tr>\n",
       "  </thead>\n",
       "  <tbody>\n",
       "    <tr>\n",
       "      <th>0</th>\n",
       "      <td>59491810</td>\n",
       "      <td>10107.0</td>\n",
       "      <td>2008-07-31</td>\n",
       "      <td>-0.065067</td>\n",
       "      <td>25.719999</td>\n",
       "    </tr>\n",
       "    <tr>\n",
       "      <th>1</th>\n",
       "      <td>59491810</td>\n",
       "      <td>10107.0</td>\n",
       "      <td>2008-08-29</td>\n",
       "      <td>0.065319</td>\n",
       "      <td>27.290001</td>\n",
       "    </tr>\n",
       "    <tr>\n",
       "      <th>2</th>\n",
       "      <td>59491810</td>\n",
       "      <td>10107.0</td>\n",
       "      <td>2008-09-30</td>\n",
       "      <td>-0.021986</td>\n",
       "      <td>26.690001</td>\n",
       "    </tr>\n",
       "    <tr>\n",
       "      <th>3</th>\n",
       "      <td>59491810</td>\n",
       "      <td>10107.0</td>\n",
       "      <td>2008-10-31</td>\n",
       "      <td>-0.163357</td>\n",
       "      <td>22.330000</td>\n",
       "    </tr>\n",
       "    <tr>\n",
       "      <th>4</th>\n",
       "      <td>59491810</td>\n",
       "      <td>10107.0</td>\n",
       "      <td>2008-11-28</td>\n",
       "      <td>-0.088670</td>\n",
       "      <td>20.219999</td>\n",
       "    </tr>\n",
       "  </tbody>\n",
       "</table>\n",
       "</div>"
      ],
      "text/plain": [
       "      cusip   permno        date       ret        prc\n",
       "0  59491810  10107.0  2008-07-31 -0.065067  25.719999\n",
       "1  59491810  10107.0  2008-08-29  0.065319  27.290001\n",
       "2  59491810  10107.0  2008-09-30 -0.021986  26.690001\n",
       "3  59491810  10107.0  2008-10-31 -0.163357  22.330000\n",
       "4  59491810  10107.0  2008-11-28 -0.088670  20.219999"
      ]
     },
     "execution_count": 41,
     "metadata": {},
     "output_type": "execute_result"
    }
   ],
   "source": [
    "# Dowload the relevant data for our 50 selected stocks on a monthly period\n",
    "\n",
    "perm={'permnos':('22592','81540','14593','83469','83443','77605','29938','20750',\n",
    "                 '77369','31500','86356','82642','11850','36768','62228',\n",
    "                 '12060','90900','77274','39571','52695','23819','87394',\n",
    "                 '59328','89960','50876','80054','10107','89781','25590',\n",
    "                 '80539','87179','57665','63706','86580','35107','13856',\n",
    "                 '62359','11043','50017','89453','46922','91556',\n",
    "                 '64805','63765','75607','86810','90979','92655','65875','76201')}\n",
    "\n",
    "\n",
    "\n",
    "      \n",
    "statement=\"\"\"\n",
    "SELECT cusip, permno, date, ret, prc\n",
    "FROM crsp.msf\n",
    "WHERE permno in %(permnos)s\n",
    "and date between '2008-07-31' and '2019-01-01'\n",
    "\"\"\"\n",
    "\n",
    "data=conn.raw_sql(statement, params=perm)\n",
    "data1=pd.DataFrame(data, columns=['cusip','permno','date','ret','prc'])\n",
    "data1.head()"
   ]
  },
  {
   "cell_type": "code",
   "execution_count": 42,
   "metadata": {},
   "outputs": [
    {
     "data": {
      "text/plain": [
       "permnos    50\n",
       "dtype: int64"
      ]
     },
     "execution_count": 42,
     "metadata": {},
     "output_type": "execute_result"
    }
   ],
   "source": [
    "permtest = pd.DataFrame(perm)\n",
    "permtest.sort_values(by=['permnos'])\n",
    "permtest.count()"
   ]
  },
  {
   "cell_type": "code",
   "execution_count": 43,
   "metadata": {},
   "outputs": [],
   "source": [
    "#pd.set_option('display.max_columns',500)"
   ]
  },
  {
   "cell_type": "code",
   "execution_count": 44,
   "metadata": {},
   "outputs": [
    {
     "data": {
      "text/plain": [
       "50"
      ]
     },
     "execution_count": 44,
     "metadata": {},
     "output_type": "execute_result"
    }
   ],
   "source": [
    "# Transpose the table to have it reverse sorted by date\n",
    "datasetcleaned=data.set_index('date')\n",
    "datagoodorder=datasetcleaned.pivot(columns='permno', values='prc')\n",
    "datagoodorder.tail()\n",
    "df = pd.DataFrame(datagoodorder)\n",
    "len(df.columns)"
   ]
  },
  {
   "cell_type": "code",
   "execution_count": 13,
   "metadata": {},
   "outputs": [
    {
     "data": {
      "text/plain": [
       "Text(0,0.5,'price in $')"
      ]
     },
     "execution_count": 13,
     "metadata": {},
     "output_type": "execute_result"
    },
    {
     "data": {
      "image/png": "[encoded data removed]",
      "text/plain": [
       "<Figure size 1008x1440 with 1 Axes>"
      ]
     },
     "metadata": {},
     "output_type": "display_data"
    }
   ],
   "source": [
    "# First have a look at a scatter plot to see a chart of our 50 portfolio. \n",
    "# Remark: bershire hathaway share is the most expensive one in our portfolio\n",
    "#         Some stocks had some stocks splits \n",
    "plt.figure(figsize=(14, 20))\n",
    "for c in datagoodorder.columns.values:\n",
    "    plt.plot(datagoodorder.index, datagoodorder[c], lw=3, alpha=0.8,label=c)\n",
    "plt.legend(loc='upper left', fontsize=12)\n",
    "plt.ylabel('price in $')"
   ]
  },
  {
   "cell_type": "code",
   "execution_count": 14,
   "metadata": {
    "scrolled": true
   },
   "outputs": [
    {
     "data": {
      "text/plain": [
       "Text(0,0.5,'daily returns')"
      ]
     },
     "execution_count": 14,
     "metadata": {},
     "output_type": "execute_result"
    },
    {
     "data": {
      "image/png": "[encoded data removed]",
      "text/plain": [
       "<Figure size 1080x1440 with 1 Axes>"
      ]
     },
     "metadata": {},
     "output_type": "display_data"
    }
   ],
   "source": [
    "# Have a look at the returns of each stocks to see the volatility\n",
    "# We can see that 2009 was the period with the most volatility.\n",
    "returns_of_assets = datagoodorder.pct_change()\n",
    "plt.figure(figsize=(15, 20))\n",
    "for c in returns_of_assets.columns.values:\n",
    "    plt.plot(returns_of_assets.index, returns_of_assets[c], lw=3, alpha=0.8,label=c)\n",
    "plt.legend(loc='upper right', fontsize=12)\n",
    "plt.ylabel('daily returns')"
   ]
  },
  {
   "cell_type": "code",
   "execution_count": 15,
   "metadata": {},
   "outputs": [
    {
     "data": {
      "text/plain": [
       "6"
      ]
     },
     "execution_count": 15,
     "metadata": {},
     "output_type": "execute_result"
    }
   ],
   "source": [
    "df = pd.DataFrame(returns_of_assets)\n",
    "len(df.columns)"
   ]
  },
  {
   "cell_type": "code",
   "execution_count": 25,
   "metadata": {},
   "outputs": [],
   "source": [
    "#Creat two function: one to calculate the portfolio annualized return and standard deviation\n",
    "# and one to compute portfolios with random weights\n",
    "def portfolio_annualised_performance(weights, mean_returns, cov_matrix):\n",
    "    returns = np.sum(mean_returns*weights )*12\n",
    "    std = np.sqrt(np.dot(weights.T, np.dot(cov_matrix, weights))) * np.sqrt(12)\n",
    "    return std, returns \n",
    "\n",
    "def random_portfolios(num_portfolios, mean_returns, cov_matrix, risk_free_rate):\n",
    "    results = np.zeros((3,num_portfolios))\n",
    "    weights_record = []\n",
    "    for i in range(num_portfolios):\n",
    "        weights = np.random.random(6)\n",
    "        weights /= np.sum(weights)\n",
    "        weights_record.append(weights)\n",
    "        portfolio_std_dev, portfolio_return = portfolio_annualised_performance(weights, mean_returns, cov_matrix)\n",
    "        results[0,i] = portfolio_std_dev\n",
    "        results[1,i] = portfolio_return\n",
    "        results[2,i] = (portfolio_return - risk_free_rate) / portfolio_std_dev\n",
    "    return results, weights_record"
   ]
  },
  {
   "cell_type": "code",
   "execution_count": 26,
   "metadata": {},
   "outputs": [],
   "source": [
    "#Assigne returns, mean and covariances\n",
    "returns = datagoodorder.pct_change()\n",
    "mean_returns = returns.mean()\n",
    "cov_matrix = returns.cov()\n",
    "\n",
    "#Define the number of portfolio we want to compute\n",
    "num_portfolios = 10000\n",
    "risk_free_rate = lastrfrate"
   ]
  },
  {
   "cell_type": "code",
   "execution_count": 27,
   "metadata": {},
   "outputs": [],
   "source": [
    "# Define a function to calculate the max sharpe ratio, min volatility portfolios\n",
    "# and plot them with the other portfolio computes in a plot\n",
    "def display_simulated_ef_with_random(mean_returns, cov_matrix, num_portfolios, risk_free_rate):\n",
    "    results, weights = random_portfolios(num_portfolios,mean_returns, cov_matrix, risk_free_rate) \n",
    "    max_sharpe_idx = np.argmax(results[2])\n",
    "    sdp, rp = results[0,max_sharpe_idx], results[1,max_sharpe_idx]\n",
    "    max_sharpe_allocation = pd.DataFrame(weights[max_sharpe_idx],index=datagoodorder.columns,columns=['allocation'])\n",
    "    max_sharpe_allocation.allocation = [round(i*100,2)for i in max_sharpe_allocation.allocation]\n",
    "    max_sharpe_allocation = max_sharpe_allocation.T\n",
    "   \n",
    "    min_vol_idx = np.argmin(results[0])\n",
    "    sdp_min, rp_min = results[0,min_vol_idx], results[1,min_vol_idx]\n",
    "    min_vol_allocation = pd.DataFrame(weights[min_vol_idx],index=datagoodorder.columns,columns=['allocation'])\n",
    "    min_vol_allocation.allocation = [round(i*100,2)for i in min_vol_allocation.allocation]\n",
    "    min_vol_allocation = min_vol_allocation.T\n",
    "   \n",
    "    print (\"-\"*80)\n",
    "    print (\"Maximum Sharpe Ratio Portfolio Allocation\\n\")\n",
    "    print (\"Annualised Return:\", round(rp,2))\n",
    "    print (\"Annualised Volatility:\", round(sdp,2))\n",
    "    print (\"\\n\")\n",
    "    print (max_sharpe_allocation)\n",
    "    print (\"-\"*80)\n",
    "    print (\"Minimum Volatility Portfolio Allocation\\n\")\n",
    "    print (\"Annualised Return:\", round(rp_min,2))\n",
    "    print (\"Annualised Volatility:\", round(sdp_min,2))\n",
    "    print (\"\\n\")\n",
    "    print (min_vol_allocation)\n",
    "   \n",
    "\n",
    "    plt.figure(figsize=(10, 7))\n",
    "    plt.scatter(results[0,:],results[1,:],c=results[2,:],cmap='viridis_r', marker='o', s=10, alpha=0.3)\n",
    "    plt.colorbar()\n",
    "    plt.scatter(sdp,rp,marker='+',color='g',s=500, label='Maximum Sharpe ratio')\n",
    "    plt.scatter(sdp_min,rp_min,marker='+',color='b',s=500, label='Minimum volatility')\n",
    "    plt.title('Simulated Portfolio Optimization based on Efficient Frontier')\n",
    "    plt.xlabel('annualised volatility')\n",
    "    plt.ylabel('annualised returns')\n",
    "    plt.legend(labelspacing=0.8)"
   ]
  },
  {
   "cell_type": "code",
   "execution_count": 28,
   "metadata": {
    "scrolled": true
   },
   "outputs": [
    {
     "name": "stdout",
     "output_type": "stream",
     "text": [
      "--------------------------------------------------------------------------------\n",
      "Maximum Sharpe Ratio Portfolio Allocation\n",
      "\n",
      "Annualised Return: 0.15\n",
      "Annualised Volatility: 0.21\n",
      "\n",
      "\n",
      "permno      36768.0  62228.0  87179.0  89453.0  90900.0  91556.0\n",
      "allocation    16.03     6.38     11.5     6.23    29.66     30.2\n",
      "--------------------------------------------------------------------------------\n",
      "Minimum Volatility Portfolio Allocation\n",
      "\n",
      "Annualised Return: 0.14\n",
      "Annualised Volatility: 0.2\n",
      "\n",
      "\n",
      "permno      36768.0  62228.0  87179.0  89453.0  90900.0  91556.0\n",
      "allocation    20.75    18.69     7.52     8.55    21.51    22.98\n"
     ]
    },
    {
     "data": {
      "image/png": "[encoded data removed]",
      "text/plain": [
       "<Figure size 720x504 with 2 Axes>"
      ]
     },
     "metadata": {},
     "output_type": "display_data"
    }
   ],
   "source": [
    "display_simulated_ef_with_random(mean_returns, cov_matrix, num_portfolios, risk_free_rate)"
   ]
  },
  {
   "cell_type": "code",
   "execution_count": 29,
   "metadata": {},
   "outputs": [],
   "source": [
    "# Initiate the constrains that the maximum sum of our portfolio should be equal to 1\n",
    "constraints = ({'type': 'eq', 'fun': lambda x: np.sum(x)-1})"
   ]
  },
  {
   "cell_type": "code",
   "execution_count": 30,
   "metadata": {},
   "outputs": [],
   "source": [
    "# Instead of trying to maximise a positive sharpe ratio, we will minimize a negative sharpe ratio which conclude to the same results but is easier to implement.\n",
    "def neg_sharpe_ratio(weights, mean_returns, cov_matrix, risk_free_rate):\n",
    "    p_var, p_ret = portfolio_annualised_performance(weights, mean_returns, cov_matrix)\n",
    "    return -(p_ret - risk_free_rate) / p_var\n",
    "\n",
    "def max_sharpe_ratio(mean_returns, cov_matrix, risk_free_rate):\n",
    "    num_assets = len(mean_returns)\n",
    "    args = (mean_returns, cov_matrix, risk_free_rate)\n",
    "    constraints = ({'type': 'eq', 'fun': lambda x: np.sum(x) - 1})\n",
    "    bound = (0.0,1.0)\n",
    "    bounds = tuple(bound for asset in range(num_assets))\n",
    "    result = sco.minimize(neg_sharpe_ratio, num_assets*[1./num_assets,], args=args,\n",
    "                        method='SLSQP', bounds=bounds, constraints=constraints)\n",
    "    return result"
   ]
  },
  {
   "cell_type": "code",
   "execution_count": 31,
   "metadata": {},
   "outputs": [],
   "source": [
    "# Define functions to have the minimum variance and the portfolios vollailities\n",
    "def portfolio_volatility(weights, mean_returns, cov_matrix):\n",
    "    return portfolio_annualised_performance(weights, mean_returns, cov_matrix)[0]\n",
    "\n",
    "def min_variance(mean_returns, cov_matrix):\n",
    "    num_assets = len(mean_returns)\n",
    "    args = (mean_returns, cov_matrix)\n",
    "    constraints = ({'type': 'eq', 'fun': lambda x: np.sum(x) - 1})\n",
    "    bound = (0.0,1.0)\n",
    "    bounds = tuple(bound for asset in range(num_assets))\n",
    "    result = sco.minimize(portfolio_volatility, num_assets*[1./num_assets,], args=args,\n",
    "\n",
    "                        method='SLSQP', bounds=bounds, constraints=constraints)\n",
    "    return result"
   ]
  },
  {
   "cell_type": "code",
   "execution_count": 32,
   "metadata": {},
   "outputs": [],
   "source": [
    "# Define a function to determine the portfolio that will compose the efficient frontier\n",
    "def efficient_return(mean_returns, cov_matrix, target):\n",
    "    num_assets = len(mean_returns)\n",
    "    args = (mean_returns, cov_matrix)\n",
    "    def portfolio_return(weights):\n",
    "        return portfolio_annualised_performance(weights, mean_returns, cov_matrix)[1]\n",
    "    constraints = ({'type': 'eq', 'fun': lambda x: portfolio_return(x) - target},\n",
    "                   {'type': 'eq', 'fun': lambda x: np.sum(x) - 1})\n",
    "    bounds = tuple((0,1) for asset in range(num_assets))\n",
    "    result = sco.minimize(portfolio_volatility, num_assets*[1./num_assets,], args=args, method='SLSQP', bounds=bounds, constraints=constraints)\n",
    "    return result\n",
    "def efficient_frontier(mean_returns, cov_matrix, returns_range):\n",
    "    efficients = []\n",
    "    for ret in returns_range:\n",
    "        efficients.append(efficient_return(mean_returns, cov_matrix, ret))\n",
    "    return efficients"
   ]
  },
  {
   "cell_type": "code",
   "execution_count": 33,
   "metadata": {},
   "outputs": [],
   "source": [
    "# Define a function that will display the portfolio with the minimized negative sharpe ratio\n",
    "#, the minimum volatility and the portfolio that will compose the efficient frontier.\n",
    "def display_ef_with_selected(mean_returns, cov_matrix, risk_free_rate):\n",
    "    max_sharpe = max_sharpe_ratio(mean_returns, cov_matrix, risk_free_rate)\n",
    "    sdp, rp = portfolio_annualised_performance(max_sharpe['x'], mean_returns, cov_matrix)\n",
    "    max_sharpe_allocation = pd.DataFrame(max_sharpe.x,index=datagoodorder.columns,columns=['allocation'])\n",
    "    max_sharpe_allocation.allocation = [round(i*100,2)for i in max_sharpe_allocation.allocation]\n",
    "    max_sharpe_allocation = max_sharpe_allocation.T\n",
    "    max_sharpe_allocation\n",
    "\n",
    "    min_vol = min_variance(mean_returns, cov_matrix)\n",
    "    sdp_min, rp_min = portfolio_annualised_performance(min_vol['x'], mean_returns, cov_matrix)\n",
    "    min_vol_allocation = pd.DataFrame(min_vol.x,index=datagoodorder.columns,columns=['allocation'])\n",
    "    min_vol_allocation.allocation = [round(i*100,2)for i in min_vol_allocation.allocation]\n",
    "    min_vol_allocation = min_vol_allocation.T\n",
    "    \n",
    "    an_vol = np.std(returns) * np.sqrt(12)\n",
    "    an_rt = mean_returns * 12\n",
    "    \n",
    "    print (\"-\"*80)\n",
    "    print (\"Maximum Sharpe Ratio Portfolio Allocation\\n\")\n",
    "    print (\"Annualised Return:\", round(rp,2))\n",
    "    print (\"Annualised Volatility:\", round(sdp,2))\n",
    "    print (\"\\n\")\n",
    "    print (max_sharpe_allocation)\n",
    "    print (\"-\"*80)\n",
    "    print (\"Minimum Volatility Portfolio Allocation\\n\")\n",
    "    print (\"Annualised Return:\", round(rp_min,2))\n",
    "    print (\"Annualised Volatility:\", round(sdp_min,2))\n",
    "    print (\"\\n\")\n",
    "    print (min_vol_allocation)\n",
    "    print (\"-\"*80)\n",
    "    print (\"Individual Stock Returns and Volatility\\n\")\n",
    "   \n",
    "    \n",
    "    fig, ax = plt.subplots(figsize=(10, 7))\n",
    "    ax.scatter(an_vol,an_rt,marker='*',s=200, color='r')\n",
    "\n",
    "    ax.scatter(sdp,rp,marker='+',color='g',s=500, label='Optimal Risky Portfolio')\n",
    "    ax.scatter(sdp_min,rp_min,marker='+',color='b',s=500, label='Minimum Variance Portfolio')\n",
    "\n",
    "    target = np.linspace(rp_min, 0.475, 50)\n",
    " \n",
    "    efficient_portfolios = efficient_frontier(mean_returns, cov_matrix, target)\n",
    "    ax.plot([p['fun'] for p in efficient_portfolios], target, linestyle='-', color='black', label='efficient frontier')\n",
    "    ax.plot([0,sdp],[risk_free_rate,rp], linestyle='--', color='cyan', label='Capital Allocation Line')\n",
    "    ax.set_title('Portfolio Optimization with Individual Stocks')\n",
    "    ax.set_xlabel('annualised volatility')\n",
    "    ax.set_ylabel('annualised returns')\n",
    "    ax.legend(labelspacing=0.8)\n",
    "    \n",
    "    return(np.transpose(max_sharpe_allocation))\n",
    "   "
   ]
  },
  {
   "cell_type": "code",
   "execution_count": 34,
   "metadata": {},
   "outputs": [
    {
     "name": "stdout",
     "output_type": "stream",
     "text": [
      "--------------------------------------------------------------------------------\n",
      "Maximum Sharpe Ratio Portfolio Allocation\n",
      "\n",
      "Annualised Return: 0.15\n",
      "Annualised Volatility: 0.21\n",
      "\n",
      "\n",
      "permno      36768.0  62228.0  87179.0  89453.0  90900.0  91556.0\n",
      "allocation    18.63    10.03    10.82     6.33    28.32    25.86\n",
      "--------------------------------------------------------------------------------\n",
      "Minimum Volatility Portfolio Allocation\n",
      "\n",
      "Annualised Return: 0.14\n",
      "Annualised Volatility: 0.2\n",
      "\n",
      "\n",
      "permno      36768.0  62228.0  87179.0  89453.0  90900.0  91556.0\n",
      "allocation     19.4    18.48     7.96     8.38    19.81    25.97\n",
      "--------------------------------------------------------------------------------\n",
      "Individual Stock Returns and Volatility\n",
      "\n"
     ]
    },
    {
     "data": {
      "image/png": "[encoded data removed]",
      "text/plain": [
       "<Figure size 720x504 with 1 Axes>"
      ]
     },
     "metadata": {},
     "output_type": "display_data"
    }
   ],
   "source": [
    "#Display the function above\n",
    "max_sharpe_allocation=display_ef_with_selected(mean_returns, cov_matrix, risk_free_rate)\n"
   ]
  },
  {
   "cell_type": "code",
   "execution_count": 35,
   "metadata": {},
   "outputs": [
    {
     "data": {
      "text/html": [
       "<div>\n",
       "<style scoped>\n",
       "    .dataframe tbody tr th:only-of-type {\n",
       "        vertical-align: middle;\n",
       "    }\n",
       "\n",
       "    .dataframe tbody tr th {\n",
       "        vertical-align: top;\n",
       "    }\n",
       "\n",
       "    .dataframe thead th {\n",
       "        text-align: right;\n",
       "    }\n",
       "</style>\n",
       "<table border=\"1\" class=\"dataframe\">\n",
       "  <thead>\n",
       "    <tr style=\"text-align: right;\">\n",
       "      <th></th>\n",
       "      <th>allocation</th>\n",
       "    </tr>\n",
       "    <tr>\n",
       "      <th>permno</th>\n",
       "      <th></th>\n",
       "    </tr>\n",
       "  </thead>\n",
       "  <tbody>\n",
       "    <tr>\n",
       "      <th>36768.0</th>\n",
       "      <td>18.63</td>\n",
       "    </tr>\n",
       "    <tr>\n",
       "      <th>62228.0</th>\n",
       "      <td>10.03</td>\n",
       "    </tr>\n",
       "    <tr>\n",
       "      <th>87179.0</th>\n",
       "      <td>10.82</td>\n",
       "    </tr>\n",
       "    <tr>\n",
       "      <th>89453.0</th>\n",
       "      <td>6.33</td>\n",
       "    </tr>\n",
       "    <tr>\n",
       "      <th>90900.0</th>\n",
       "      <td>28.32</td>\n",
       "    </tr>\n",
       "    <tr>\n",
       "      <th>91556.0</th>\n",
       "      <td>25.86</td>\n",
       "    </tr>\n",
       "  </tbody>\n",
       "</table>\n",
       "</div>"
      ],
      "text/plain": [
       "         allocation\n",
       "permno             \n",
       "36768.0       18.63\n",
       "62228.0       10.03\n",
       "87179.0       10.82\n",
       "89453.0        6.33\n",
       "90900.0       28.32\n",
       "91556.0       25.86"
      ]
     },
     "execution_count": 35,
     "metadata": {},
     "output_type": "execute_result"
    }
   ],
   "source": [
    "# Show the weight of the max sharpe ratio allocation\n",
    "max_sharpe_allocation\n"
   ]
  },
  {
   "cell_type": "code",
   "execution_count": 36,
   "metadata": {},
   "outputs": [
    {
     "data": {
      "text/plain": [
       "allocation    28.32\n",
       "Name: 90900.0, dtype: float64"
      ]
     },
     "execution_count": 36,
     "metadata": {},
     "output_type": "execute_result"
    }
   ],
   "source": [
    "max_sharpe_allocation = pd.DataFrame(max_sharpe_allocation)\n",
    "max_sharpe_allocation.loc[max_sharpe_allocation['allocation'].idxmax()]\n",
    "#max sharpe ratio weight is 42.21% for UNITEDHEALTH GROUP INC (92655)"
   ]
  },
  {
   "cell_type": "code",
   "execution_count": 37,
   "metadata": {},
   "outputs": [],
   "source": [
    "#min_vol_allocation = pd.DataFrame(min_vol_allocation)\n",
    "#min_vol_allocation.loc[min_vol_allocation['allocation'].idxmax()]\n",
    "#min volatility ratio gives 17.22% weight to PEPSICO INC (13856)\n"
   ]
  },
  {
   "cell_type": "markdown",
   "metadata": {},
   "source": [
    "# B) and C)"
   ]
  },
  {
   "cell_type": "code",
   "execution_count": 38,
   "metadata": {},
   "outputs": [],
   "source": [
    "# Import packages needed \n",
    "import statsmodels.formula.api as sm"
   ]
  },
  {
   "cell_type": "code",
   "execution_count": 39,
   "metadata": {},
   "outputs": [],
   "source": [
    "# Compute the market return based on fama french risk free rate and excess return of the market\n",
    "marketrate = datareg1['rf'] + datareg1['mktrf']"
   ]
  },
  {
   "cell_type": "code",
   "execution_count": 40,
   "metadata": {},
   "outputs": [],
   "source": [
    "#Select two stocks\n",
    "dataforpepsico= returns.iloc[:,4]#PEPSICO INC (13856)\n",
    "dataforunitedhealth = returns.iloc[:,3] # UNITEDHEALTH GROUP INC (92655)\n"
   ]
  },
  {
   "cell_type": "code",
   "execution_count": null,
   "metadata": {},
   "outputs": [],
   "source": [
    "dataforpepsico.reset_index(drop=True,inplace=True)\n",
    "dataforunitedhealth.reset_index(drop=True,inplace=True)"
   ]
  },
  {
   "cell_type": "code",
   "execution_count": null,
   "metadata": {},
   "outputs": [],
   "source": [
    "dataforpepsico = pd.DataFrame(dataforpepsico)\n",
    "dataforpepsico.columns =['Pepsi_co']\n",
    "dataforunitedhealth = pd.DataFrame(dataforunitedhealth)\n",
    "dataforunitedhealth.columns = ['United_health_gp']"
   ]
  },
  {
   "cell_type": "code",
   "execution_count": null,
   "metadata": {},
   "outputs": [],
   "source": [
    "#calculate excess return\n",
    "dataforpepsicoExRet = dataforpepsico['Pepsi_co']- datareg1['rf']\n",
    "dataforunitedhealthExRet = dataforunitedhealth['United_health_gp'] - datareg1['rf']\n"
   ]
  },
  {
   "cell_type": "code",
   "execution_count": null,
   "metadata": {},
   "outputs": [],
   "source": [
    "#switch back to numeric index\n",
    "dataforpepsicoExRet.reset_index(drop=True,inplace=True) #taking out date as there is a one day decallage between market and stock \n",
    "dataforunitedhealthExRet.reset_index(drop=True,inplace=True)\n",
    "marketrate.reset_index(drop=True,inplace=True)\n",
    "\n"
   ]
  },
  {
   "cell_type": "code",
   "execution_count": null,
   "metadata": {},
   "outputs": [],
   "source": [
    "#First regression\n",
    "pepsicomarket = pd.DataFrame({'Pepsico':dataforpepsicoExRet,'Market_Return':marketrate})\n",
    "resultpepsico = sm.ols(formula = 'Pepsico ~ Market_Return',data = pepsicomarket).fit()\n",
    "print(resultpepsico.params)"
   ]
  },
  {
   "cell_type": "code",
   "execution_count": null,
   "metadata": {},
   "outputs": [],
   "source": [
    "print(resultpepsico.summary())"
   ]
  },
  {
   "cell_type": "code",
   "execution_count": null,
   "metadata": {},
   "outputs": [],
   "source": [
    "#Second regression\n",
    "Unitedhealthmarket = pd.DataFrame({'United_health_gp':dataforunitedhealthExRet,'Market_Return':marketrate})\n",
    "resultunitedhealth =sm.ols(formula = 'United_health_gp ~ Market_Return', data =Unitedhealthmarket).fit()\n",
    "print(resultunitedhealth.params)"
   ]
  },
  {
   "cell_type": "code",
   "execution_count": null,
   "metadata": {},
   "outputs": [],
   "source": [
    "print(resultunitedhealth.summary())"
   ]
  },
  {
   "cell_type": "code",
   "execution_count": null,
   "metadata": {},
   "outputs": [],
   "source": [
    "# For both of our stocks, the intercept and the market variables are boths insignificatif at the 99% confidence interval.\n",
    "# Therefore, CAPM is rejected for thoose stocks. "
   ]
  },
  {
   "cell_type": "markdown",
   "metadata": {},
   "source": [
    "### Question 2"
   ]
  },
  {
   "cell_type": "markdown",
   "metadata": {},
   "source": [
    "# A)"
   ]
  },
  {
   "cell_type": "code",
   "execution_count": null,
   "metadata": {},
   "outputs": [],
   "source": [
    "# pre-define the sample periods\n",
    "COMPUSTAT_BEG_DATE = '2006-01-01'\n",
    "COMPUTSTAT_END_DATE = '2019-01-01'\n",
    "CRSP_BEG_DATE = '2006-01-01'\n",
    "CRSP_END_DATE = '2019-01-01'\n"
   ]
  },
  {
   "cell_type": "code",
   "execution_count": null,
   "metadata": {},
   "outputs": [],
   "source": [
    "# Postgres Query\n",
    "statement1ff = \"\"\"\n",
    "          SELECT gvkey,cusip, revt,cogs,xsga,xint, datadate, at, pstkl, txditc, pstkrv, seq, pstk\n",
    "          FROM comp.funda\n",
    "          WHERE indfmt='INDL' \n",
    "          AND datafmt='STD'\n",
    "          AND popsrc='D'\n",
    "          AND consol='C'\n",
    "          AND datadate BETWEEN '{}' AND '{}'\n",
    "       \"\"\".format(COMPUSTAT_BEG_DATE,COMPUTSTAT_END_DATE)\n",
    "comp = conn.raw_sql(statement1ff)\n",
    "comp.tail()"
   ]
  },
  {
   "cell_type": "code",
   "execution_count": null,
   "metadata": {},
   "outputs": [],
   "source": [
    "# set date and time to the standard format recognised by Pandas and other packages\n",
    "comp['datadate']=pd.to_datetime(comp['datadate'])\n",
    "\n",
    "# create a new variable for year\n",
    "comp['year']=comp['datadate'].dt.year\n",
    "# create a new variable for operating profit (revenue - Cost of Goods Sold - SG&A - interest expense)\n",
    "comp['operatingprofit']=comp.iloc[:,2] - comp.iloc[:,3] - comp.iloc[:,4] - comp.iloc[:,5]"
   ]
  },
  {
   "cell_type": "code",
   "execution_count": null,
   "metadata": {},
   "outputs": [],
   "source": [
    "# check data\n",
    "comp.info()\n",
    "comp.tail()"
   ]
  },
  {
   "cell_type": "code",
   "execution_count": null,
   "metadata": {},
   "outputs": [],
   "source": [
    "###Preferred stock \n",
    "# if pstkrv is missing, then use pstkl ==>\n",
    "comp['ps'] = np.where(comp['pstkrv'].isnull(), comp['pstkl'], comp['pstkrv'])\n",
    "\n",
    "# if created ps is missing, then use pstk ==>\n",
    "comp['ps'] = np.where(comp['ps'].isnull(),comp['pstk'], comp['ps'])\n",
    "\n",
    "# if ps is still missing, then assign 0\n",
    "comp['ps'] = np.where(comp['ps'].isnull(),0,comp['ps'])"
   ]
  },
  {
   "cell_type": "code",
   "execution_count": null,
   "metadata": {},
   "outputs": [],
   "source": [
    "# again check prefered stock we just created\n",
    "comp['ps'].describe()"
   ]
  },
  {
   "cell_type": "code",
   "execution_count": null,
   "metadata": {},
   "outputs": [],
   "source": [
    "# assign 0 to txditc ==>\n",
    "comp['txditc'] = comp['txditc'].fillna(0)\n",
    "\n",
    "# create a variable, be, for book value of equity \n",
    "# BE = stockholders' equity + deferred taxes + investment tax credit - Preferred Sto\n",
    "comp['be'] = comp['seq'] + comp['txditc'] - comp['ps']\n",
    "\n",
    "# if be is negative, replaced by NaN \n",
    "comp['be'] = np.where(comp['be'] > 0, comp['be'], np.nan)"
   ]
  },
  {
   "cell_type": "code",
   "execution_count": null,
   "metadata": {},
   "outputs": [],
   "source": [
    "# check book value of equity\n",
    "comp['be'].describe()\n",
    "comp.head()"
   ]
  },
  {
   "cell_type": "code",
   "execution_count": null,
   "metadata": {},
   "outputs": [],
   "source": [
    "# sort values so that the dataframe is constructed by id and time\n",
    "comp = comp.sort_values(by=['gvkey','datadate']) # gvkey is the primary company id\n",
    "\n",
    "# count obs starting from 0 to length of the group -1\n",
    "comp['count'] = comp.groupby(['gvkey']).cumcount()\n",
    "\n",
    "# house cleanning\n",
    "comp = comp[['gvkey','datadate','year','be','count','at','operatingprofit']]"
   ]
  },
  {
   "cell_type": "code",
   "execution_count": null,
   "metadata": {},
   "outputs": [],
   "source": [
    "# create the profitability factor\n",
    "comp['OpProfitonEquity']=comp.iloc[:,6] / comp.iloc[:,3]"
   ]
  },
  {
   "cell_type": "code",
   "execution_count": null,
   "metadata": {},
   "outputs": [],
   "source": [
    "comp.info()\n",
    "comp.head(20)"
   ]
  },
  {
   "cell_type": "code",
   "execution_count": null,
   "metadata": {},
   "outputs": [],
   "source": [
    "# sql for returning a merged crsp price dataset\n",
    "# its a large dataset, takes time to run\n",
    "statementff2 = \"\"\"\n",
    "          SELECT a.permno, a.permco, a.date, a.ret, a.retx, a.shrout, a.prc,\n",
    "                 b.shrcd, b.exchcd\n",
    "          FROM crsp.msf AS a\n",
    "          LEFT JOIN crsp.msenames AS b\n",
    "          ON a.permno=b.permno\n",
    "          AND b.namedt<=a.date\n",
    "          AND a.date<=b.nameendt\n",
    "          WHERE a.permno in %(permnos)s \n",
    "          AND a.date BETWEEN '{}' AND '{}'\n",
    "          AND b.exchcd BETWEEN 1 AND 3\n",
    "       \"\"\".format(CRSP_BEG_DATE, CRSP_END_DATE)\n",
    "crsp_m = conn.raw_sql(statementff2, params=perm)"
   ]
  },
  {
   "cell_type": "code",
   "execution_count": null,
   "metadata": {},
   "outputs": [],
   "source": [
    "# check data\n",
    "crsp_m.info()\n",
    "crsp_m.head()"
   ]
  },
  {
   "cell_type": "code",
   "execution_count": null,
   "metadata": {},
   "outputs": [],
   "source": [
    "# change variable format to int\n",
    "crsp_m[['permco','permno','shrcd','exchcd']] = crsp_m[['permco','permno','shrcd','exchcd']].astype(int)"
   ]
  },
  {
   "cell_type": "code",
   "execution_count": null,
   "metadata": {},
   "outputs": [],
   "source": [
    "# format datatime\n",
    "crsp_m['date'] = pd.to_datetime(crsp_m['date'])\n",
    "\n",
    "crsp_m['jdate'] = crsp_m['date'] + MonthEnd(0) "
   ]
  },
  {
   "cell_type": "code",
   "execution_count": null,
   "metadata": {},
   "outputs": [],
   "source": [
    "###Add delisting return\n",
    "dlret = conn.raw_sql(\"SELECT permno, dlret, dlstdt FROM crsp.msedelist\")\n",
    "\n",
    "# work on datetime\n",
    "dlret['dlstdt'] = pd.to_datetime(dlret['dlstdt'])\n",
    "dlret['jdate'] = dlret['dlstdt'] + MonthEnd(0)"
   ]
  },
  {
   "cell_type": "code",
   "execution_count": null,
   "metadata": {},
   "outputs": [],
   "source": [
    "# merge two datasets\n",
    "crsp = pd.merge(crsp_m, dlret, how='left',on=['permno','jdate'])"
   ]
  },
  {
   "cell_type": "code",
   "execution_count": null,
   "metadata": {},
   "outputs": [],
   "source": [
    "# house cleaning\n",
    "crsp['dlret'] = crsp['dlret'].fillna(0)\n",
    "crsp['ret'] = crsp['ret'].fillna(0)\n",
    "crsp['retadj'] = (1 + crsp['ret']) * (1 + crsp['dlret']) - 1\n",
    "crsp['me'] = crsp['prc'].abs() * crsp['shrout'] # calculate market equity\n",
    "crsp = crsp.drop(['dlret','dlstdt','prc','shrout'], axis = 1)\n",
    "crsp = crsp.sort_values(by = ['jdate','permco','me'])"
   ]
  },
  {
   "cell_type": "code",
   "execution_count": null,
   "metadata": {},
   "outputs": [],
   "source": [
    "crsp.info()\n",
    "crsp.head()"
   ]
  },
  {
   "cell_type": "code",
   "execution_count": null,
   "metadata": {},
   "outputs": [],
   "source": [
    "###Aggregate market cap to company level\n",
    "# sum of me across different permno belonging to same permco a given date\n",
    "crsp_summe = crsp.groupby(['jdate','permco'])['me'].sum().reset_index()\n",
    "# permno with largest mktcap in a permco/date\n",
    "crsp_maxme = crsp.groupby(['jdate','permco'])['me'].max().reset_index()\n",
    "\n",
    "# join by jdate/maxme to find the permno\n",
    "crsp1 = pd.merge(crsp, crsp_maxme, how = 'inner', on = ['jdate','permco','me'])\n",
    "# drop me column and replace with the sum me\n",
    "crsp1 = crsp1.drop(['me'], axis = 1)\n",
    "# join with sum of me to get the correct market cap info\n",
    "crsp2 = pd.merge(crsp1, crsp_summe, how = 'inner', on = ['jdate','permco'])\n",
    "# sort by permno and date and also drop duplicates\n",
    "crsp2 = crsp2.sort_values(by = ['permno','jdate']).drop_duplicates()"
   ]
  },
  {
   "cell_type": "code",
   "execution_count": null,
   "metadata": {},
   "outputs": [],
   "source": [
    "# inspect databases\n",
    "crsp2.info()\n",
    "crsp2.head()"
   ]
  },
  {
   "cell_type": "markdown",
   "metadata": {},
   "source": [
    "### Work on FF datetime"
   ]
  },
  {
   "cell_type": "code",
   "execution_count": null,
   "metadata": {},
   "outputs": [],
   "source": [
    "# create year and month\n",
    "crsp2['year'] = crsp2['jdate'].dt.year\n",
    "crsp2['month'] = crsp2['jdate'].dt.month\n",
    "# keep December market cap\n",
    "decme = crsp2[crsp2['month'] == 12]\n",
    "# house keeping\n",
    "decme = decme[['permno','date','jdate','me','year']].rename(columns={'me':'dec_me'})"
   ]
  },
  {
   "cell_type": "code",
   "execution_count": null,
   "metadata": {},
   "outputs": [],
   "source": [
    "decme.info()\n",
    "decme.head()"
   ]
  },
  {
   "cell_type": "code",
   "execution_count": null,
   "metadata": {},
   "outputs": [],
   "source": [
    "### July to June dates\n",
    "crsp2['ffdate'] = crsp2['jdate'] + MonthEnd(-6)\n",
    "crsp2['ffyear'] = crsp2['ffdate'].dt.year\n",
    "crsp2['ffmonth'] = crsp2['ffdate'].dt.month\n",
    "crsp2['1+retx'] = 1 + crsp2['retx']\n",
    "crsp2 = crsp2.sort_values(by = ['permno','date'])"
   ]
  },
  {
   "cell_type": "code",
   "execution_count": null,
   "metadata": {},
   "outputs": [],
   "source": [
    "# inspect\n",
    "crsp2.info()\n",
    "crsp2.head()"
   ]
  },
  {
   "cell_type": "code",
   "execution_count": null,
   "metadata": {},
   "outputs": [],
   "source": [
    "##Stock level characteristics\n",
    "# cumret by stock\n",
    "crsp2['cumretx'] = crsp2.groupby(['permno','ffyear'])['1+retx'].cumprod()\n",
    "# lag cumret\n",
    "# sSort data first to have good dates?\n",
    "crsp2['lcumretx'] = crsp2.groupby(['permno'])['cumretx'].shift(1) "
   ]
  },
  {
   "cell_type": "code",
   "execution_count": null,
   "metadata": {},
   "outputs": [],
   "source": [
    "# inspect\n",
    "crsp2.info()\n",
    "crsp2.head()"
   ]
  },
  {
   "cell_type": "code",
   "execution_count": null,
   "metadata": {},
   "outputs": [],
   "source": [
    "## Dealing with lag market cap\n",
    "# lag market cap\n",
    "crsp2['lme'] = crsp2.groupby(['permno'])['me'].shift(1)\n",
    "\n",
    "# if first permno then use me/(1+retx) to replace the missing value\n",
    "crsp2['count'] = crsp2.groupby(['permno']).cumcount()\n",
    "crsp2['lme'] = np.where(crsp2['count'] == 0, crsp2['me']/crsp2['1+retx'], crsp2['lme'])"
   ]
  },
  {
   "cell_type": "code",
   "execution_count": null,
   "metadata": {},
   "outputs": [],
   "source": [
    "# baseline me (june market cap?)\n",
    "mebase = crsp2[crsp2['ffmonth'] == 1][['permno','ffyear', 'lme']].rename(columns={'lme':'mebase'})"
   ]
  },
  {
   "cell_type": "code",
   "execution_count": null,
   "metadata": {},
   "outputs": [],
   "source": [
    "mebase.info()\n",
    "mebase.head()"
   ]
  },
  {
   "cell_type": "code",
   "execution_count": null,
   "metadata": {},
   "outputs": [],
   "source": [
    "# merge result back together\n",
    "crsp3 = pd.merge(crsp2, mebase, how='left', on=['permno','ffyear'])"
   ]
  },
  {
   "cell_type": "code",
   "execution_count": null,
   "metadata": {},
   "outputs": [],
   "source": [
    "crsp3.info()\n",
    "crsp3.head()"
   ]
  },
  {
   "cell_type": "code",
   "execution_count": null,
   "metadata": {},
   "outputs": [],
   "source": [
    "# create a new variable from lag market cap (for weight later on)\n",
    "crsp3['wt']=np.where(crsp3['ffmonth']==1, crsp3['lme'], crsp3['mebase']*crsp3['lcumretx'])\n",
    "\n",
    "decme['year'] = decme['year'] + 1\n",
    "decme = decme[['permno','year','dec_me']]\n",
    "\n",
    "# Info as of June so that we have data in one place (row) to construct our portfolios\n",
    "crsp3_jun = crsp3[crsp3['month'] == 6]\n",
    "\n",
    "crsp_jun = pd.merge(crsp3_jun, decme, how='inner', on=['permno','year'])"
   ]
  },
  {
   "cell_type": "code",
   "execution_count": null,
   "metadata": {},
   "outputs": [],
   "source": [
    "# make our crsp table presentable\n",
    "crsp_jun = crsp_jun[['permno','date', 'jdate', 'shrcd','exchcd','retadj','me','wt','cumretx','mebase','lme','dec_me']]\n",
    "crsp_jun = crsp_jun.sort_values(by=['permno','jdate']).drop_duplicates()\n",
    "crsp_jun.head()\n"
   ]
  },
  {
   "cell_type": "markdown",
   "metadata": {},
   "source": [
    "### Retrieving CCm data"
   ]
  },
  {
   "cell_type": "code",
   "execution_count": null,
   "metadata": {},
   "outputs": [],
   "source": [
    "ccm=conn.raw_sql(\"\"\"\n",
    "                    SELECT gvkey, lpermno AS permno, linktype, linkprim, \n",
    "                    linkdt, linkenddt\n",
    "                    FROM crsp.ccmxpf_linktable\n",
    "                    WHERE SUBSTR(linktype,1,1)='L'\n",
    "                    AND (linkprim ='C' OR linkprim='P')\n",
    "                 \"\"\")\n",
    "ccm.head()"
   ]
  },
  {
   "cell_type": "code",
   "execution_count": null,
   "metadata": {},
   "outputs": [],
   "source": [
    "# convert datetime\n",
    "ccm['linkdt']=pd.to_datetime(ccm['linkdt'])\n",
    "ccm['linkenddt']=pd.to_datetime(ccm['linkenddt'])\n",
    "# if linkenddt is missing then set to today date\n",
    "ccm['linkenddt']=ccm['linkenddt'].fillna(pd.to_datetime('today'))"
   ]
  },
  {
   "cell_type": "code",
   "execution_count": null,
   "metadata": {},
   "outputs": [],
   "source": [
    "####Merge with compustat and crsp\n",
    "# left merge on gvkey\n",
    "ccm1 = pd.merge(comp[['gvkey', 'datadate', 'be', 'count','at','OpProfitonEquity']], ccm, how = 'left', on = ['gvkey'])\n",
    "ccm1['yearend'] = ccm1['datadate'] + YearEnd(0)\n",
    "# create 'jdate' for further merge with crsp dataset\n",
    "ccm1['jdate'] = ccm1['yearend'] + MonthEnd(6)"
   ]
  },
  {
   "cell_type": "code",
   "execution_count": null,
   "metadata": {},
   "outputs": [],
   "source": [
    "# set link date bounds\n",
    "ccm2 = ccm1[(ccm1['jdate'] >= ccm1['linkdt']) & (ccm1['jdate'] <= ccm1['linkenddt'])]\n",
    "ccm2 = ccm2[['gvkey', 'permno', 'datadate', 'yearend', 'jdate', 'be', 'count','at','OpProfitonEquity']]"
   ]
  },
  {
   "cell_type": "code",
   "execution_count": null,
   "metadata": {},
   "outputs": [],
   "source": [
    "# link comp and crsp\n",
    "ccm_jun=pd.merge(crsp_jun, ccm2, how='inner', on=['permno', 'jdate'])\n",
    "\n",
    "# Calculate book to market ratio\n",
    "ccm_jun['beme']=ccm_jun['be']*1000/ccm_jun['dec_me']\n",
    "# Calculate asset growth. Shift the cells by one. Important to note that the asset growth will be computed 50times on wrong data namely between two companies but as the first year is not taking into account in the following code later it is fine.\n",
    "ccm_jun['at+1']=ccm_jun['at'].shift(1)\n",
    "ccm_jun['Asset_growth']=(ccm_jun['at']/ccm_jun['at+1'])-1\n",
    "ccm_jun.head()"
   ]
  },
  {
   "cell_type": "code",
   "execution_count": null,
   "metadata": {
    "scrolled": true
   },
   "outputs": [],
   "source": [
    "ccm_jun.info()\n",
    "ccm_jun.head()"
   ]
  },
  {
   "cell_type": "code",
   "execution_count": null,
   "metadata": {},
   "outputs": [],
   "source": [
    "#https://wrds-www.wharton.upenn.edu/pages/support/applications/portfolio-construction-and-market-anomalies/characteristic-based-benchmarks-daniel-grinblatt-titman-and-wermers-1997-python-version/\n",
    "# Create (12,1) Momentum Factor with at least one year of returns\n",
    "_tmp_crsp = ccm_jun[['permno','jdate','retadj', 'me', 'exchcd']].sort_values(['permno','jdate']).set_index('jdate')\n",
    "#replace missing return with 0\n",
    "_tmp_crsp['retadj']=_tmp_crsp['retadj'].fillna(0)\n",
    "_tmp_crsp['logret']=np.log(1+_tmp_crsp['retadj'])\n",
    "_tmp_cumret = _tmp_crsp.groupby(['permno'])['logret'].rolling(12, min_periods=0).sum()\n",
    "_tmp_cumret = _tmp_cumret.reset_index()\n",
    "_tmp_cumret['cumret']=np.exp(_tmp_cumret['logret'])-1\n",
    "\n",
    "sizemom = pd.merge(_tmp_crsp.reset_index(), _tmp_cumret[['permno','jdate','cumret']], how='left', on=['permno','jdate'])\n",
    "sizemom['mom']=sizemom.groupby('permno')['cumret'].shift(1)\n",
    "\n",
    "sizemom=sizemom[sizemom['jdate'].dt.month==6].drop(['logret','cumret'], axis=1)\n",
    "sizemom.head()"
   ]
  },
  {
   "cell_type": "code",
   "execution_count": null,
   "metadata": {},
   "outputs": [],
   "source": [
    "#Insert our momentum\n",
    "ccm_jun['mom']=sizemom['mom']\n",
    "ccm_jun"
   ]
  },
  {
   "cell_type": "code",
   "execution_count": null,
   "metadata": {},
   "outputs": [],
   "source": [
    "# select NYSE stocks for bucket breakdown\n",
    "# exchcd = 1 and positive beme and positive me and shrcd in (10,11) and at least 2 years in comp\n",
    "nyse_cond = (ccm_jun['exchcd'] == 1) & (ccm_jun['beme'] > 0) & (ccm_jun['me'] > 0) & (ccm_jun['count'] >= 1) & ((ccm_jun['shrcd'] == 10) | (ccm_jun['shrcd'] == 11))\n",
    "# NOTE: & --> AND; | --> OR\n",
    "                \n",
    "nyse=ccm_jun[nyse_cond]\n",
    "\n",
    "# Momentum breakdown\n",
    "sizemom=sizemom.sort_values(['jdate','permno']).drop_duplicates()\n",
    "nysem = sizemom[sizemom['exchcd']==1]\n",
    "nyse_mom = nysem.groupby(['jdate'])['mom'].describe(percentiles=[0.3,0.7,]).reset_index()\n",
    "nyse_mom = nyse_mom[['jdate','30%','70%']].rename(columns={'30%':'MoM30', '70%':'MoM70'})\n",
    "\n",
    "\n",
    "#Investment breakdown\n",
    "nyse_invest = nyse.groupby(['jdate'])['Asset_growth'].describe(percentiles=[0.3,0.7]).reset_index()\n",
    "nyse_invest=nyse_invest[['jdate','30%','70%']].rename(columns={'30%':'invest30', '70%':'invest70'})\n",
    "\n",
    "# size breakdown\n",
    "nyse_sz=nyse.groupby(['jdate'])['me'].median().to_frame().reset_index().rename(columns={'me':'sizemedn'})\n",
    "\n",
    "#Profitability breakdown\n",
    "nyse_profit=nyse.groupby(['jdate'])['OpProfitonEquity'].describe(percentiles=[0.3, 0.7]).reset_index()\n",
    "nyse_profit=nyse_profit[['jdate','30%','70%']].rename(columns={'30%':'profit30', '70%':'profit70'})\n",
    "\n",
    "\n",
    "# beme breakdown\n",
    "nyse_bm=nyse.groupby(['jdate'])['beme'].describe(percentiles=[0.3, 0.7]).reset_index()\n",
    "nyse_bm=nyse_bm[['jdate','30%','70%']].rename(columns={'30%':'bm30', '70%':'bm70'})\n",
    "\n",
    "# merge two bucket breakdown datasets\n",
    "nyse_breaks3 = pd.merge(nyse_invest,nyse_sz, how='inner', on=['jdate'])\n",
    "nyse_breaks2 = pd.merge(nyse_breaks3, nyse_bm, how='inner', on=['jdate'])\n",
    "nyse_breaks1 = pd.merge(nyse_breaks2,nyse_profit, how='inner', on=['jdate'])\n",
    "nyse_breaks = pd.merge(nyse_breaks1,nyse_mom, how='inner', on=['jdate'])\n",
    "\n",
    "# merge back to our main dataset\n",
    "ccm1_jun = pd.merge(ccm_jun, nyse_breaks, how='left', on=['jdate'])\n"
   ]
  },
  {
   "cell_type": "code",
   "execution_count": null,
   "metadata": {},
   "outputs": [],
   "source": [
    "nyse"
   ]
  },
  {
   "cell_type": "code",
   "execution_count": null,
   "metadata": {
    "scrolled": true
   },
   "outputs": [],
   "source": [
    "nyse_invest.head()"
   ]
  },
  {
   "cell_type": "code",
   "execution_count": null,
   "metadata": {},
   "outputs": [],
   "source": [
    "np.transpose(ccm1_jun)\n"
   ]
  },
  {
   "cell_type": "markdown",
   "metadata": {},
   "source": [
    "### Function for assigning characteristics bucket"
   ]
  },
  {
   "cell_type": "code",
   "execution_count": null,
   "metadata": {},
   "outputs": [],
   "source": [
    "# functions\n",
    "def momentum_bucket(row):\n",
    "    if row['mom']<=row['MoM30']:\n",
    "        value = 'Lm'\n",
    "    elif row['mom']<=row['MoM70']:\n",
    "        value='M'\n",
    "    elif row['mom']>row['MoM70']:\n",
    "        value='Hm'\n",
    "    else:\n",
    "        value=''\n",
    "    return value\n",
    "\n",
    "def profit_bucket(row):\n",
    "    if row['OpProfitonEquity']<=row['profit30']:\n",
    "        value = 'W'\n",
    "    elif row['OpProfitonEquity']<=row['profit70']:\n",
    "        value='M'\n",
    "    elif row['OpProfitonEquity']>row['profit70']:\n",
    "        value='R'\n",
    "    else:\n",
    "        value=''\n",
    "    return value\n",
    "\n",
    "def sz_bucket(row):\n",
    "    if row['me']==np.nan:\n",
    "        value=''\n",
    "    elif row['me']<=row['sizemedn']:\n",
    "        value='S'\n",
    "    else:\n",
    "        value='B'\n",
    "    return value\n",
    "\n",
    "def invest_bucket(row):\n",
    "    if row['Asset_growth']<=row['invest30']:\n",
    "        value = 'C'\n",
    "    elif row['Asset_growth']<=row['invest70']:\n",
    "        value='M'\n",
    "    elif row['Asset_growth']>row['invest70']:\n",
    "        value='A'\n",
    "    else:\n",
    "        value=''\n",
    "    return value\n",
    "\n",
    "def bm_bucket(row):\n",
    "    if 0<=row['beme']<=row['bm30']:\n",
    "        value = 'L'\n",
    "    elif row['beme']<=row['bm70']:\n",
    "        value='M'\n",
    "    elif row['beme']>row['bm70']:\n",
    "        value='H'\n",
    "    else:\n",
    "        value=''\n",
    "    return value\n"
   ]
  },
  {
   "cell_type": "code",
   "execution_count": null,
   "metadata": {
    "scrolled": true
   },
   "outputs": [],
   "source": [
    "##Assign momentum portfolio\n",
    "ccm1_jun['momentumport'] = np.where((ccm1_jun['beme']>0) & \n",
    "                            (ccm1_jun['me']>0) & \n",
    "                            (ccm1_jun['count']>=1) ,\n",
    "                            ccm1_jun.apply(momentum_bucket, axis=1), '')\n",
    "\n",
    "#assign protiftability portfolio\n",
    "ccm1_jun['profitport'] = np.where((ccm1_jun['beme']>0) & \n",
    "                            (ccm1_jun['me']>0) & \n",
    "                            (ccm1_jun['count']>=1) ,\n",
    "                            ccm1_jun.apply(profit_bucket, axis=1), '')\n",
    "\n",
    "# assign size portfolio\n",
    "ccm1_jun['szport'] = np.where((ccm1_jun['beme']>0) & \n",
    "                            (ccm1_jun['me']>0) & \n",
    "                            (ccm1_jun['count']>=1), \n",
    "                            ccm1_jun.apply(sz_bucket, axis=1), '')\n",
    "# assign investment portfolios\n",
    "ccm1_jun['investport'] = np.where((ccm1_jun['beme']>0) & \n",
    "                            (ccm1_jun['me']>0) & \n",
    "                            (ccm1_jun['count']>=1), \n",
    "                            ccm1_jun.apply(invest_bucket, axis=1), '')\n",
    "\n",
    "# assign book-to-market portfolio\n",
    "ccm1_jun['bmport'] = np.where((ccm1_jun['beme']>0) & \n",
    "                            (ccm1_jun['me']>0) & \n",
    "                            (ccm1_jun['count']>=1), \n",
    "                            ccm1_jun.apply(bm_bucket, axis=1), '')\n",
    "\n",
    "# create positivebmeme and nonmissport variable\n",
    "ccm1_jun['posbm'] = np.where((ccm1_jun['beme']>0) & \n",
    "                           (ccm1_jun['me']>0) & \n",
    "                           (ccm1_jun['count']>=1), \n",
    "                           1, 0)\n",
    "ccm1_jun['nonmissport']=np.where((ccm1_jun['bmport']!=''), 1, 0)\n",
    "\n",
    "# store portfolio assignment as of June\n",
    "june = ccm1_jun[['permno','date', 'jdate','momentumport','profitport','bmport','investport','szport','at','posbm','OpProfitonEquity','nonmissport']]\n",
    "june['ffyear'] = june['jdate'].dt.year\n",
    "june.head()"
   ]
  },
  {
   "cell_type": "code",
   "execution_count": null,
   "metadata": {},
   "outputs": [],
   "source": [
    "####Merge with monthly returns\n",
    "# merge back with monthly records\n",
    "crsp3 = crsp3[['date','permno','shrcd','exchcd','retadj',\n",
    "               'me','wt','cumretx','ffyear','jdate']]\n",
    "ccm3=pd.merge(crsp3, \n",
    "              june[['permno','ffyear','momentumport','profitport','bmport','investport','szport','at','posbm','OpProfitonEquity','nonmissport']], \n",
    "              how='left', \n",
    "              on=['permno','ffyear'])"
   ]
  },
  {
   "cell_type": "code",
   "execution_count": null,
   "metadata": {},
   "outputs": [],
   "source": [
    "# keeping only records that meet the criteria\n",
    "ccm4=ccm3[(ccm3['wt']>0) & \n",
    "          (ccm3['posbm']==1) &\n",
    "          (ccm3['nonmissport']==1) & \n",
    "          ((ccm3['shrcd']==10) | (ccm3['shrcd']==11))]"
   ]
  },
  {
   "cell_type": "code",
   "execution_count": null,
   "metadata": {},
   "outputs": [],
   "source": [
    "###Value weighted returns\n",
    "# function to calculate value weighted return\n",
    "def wavg(group, avg_name, weight_name):\n",
    "    d = group[avg_name]\n",
    "    w = group[weight_name]\n",
    "    try:\n",
    "        return (d * w).sum() / w.sum()\n",
    "    except ZeroDivisionError: # in case of zero division\n",
    "        return np.nan"
   ]
  },
  {
   "cell_type": "code",
   "execution_count": null,
   "metadata": {},
   "outputs": [],
   "source": [
    "#### value-weigthed return\n",
    "# weighted-average function suggested by Wes McKinney\n",
    "# We decide to make pairs of size and each of the factors, as proposed by Fama French in their five factor asset pricing model paper. \n"
   ]
  },
  {
   "cell_type": "code",
   "execution_count": null,
   "metadata": {},
   "outputs": [],
   "source": [
    "# Pairs of size and momentum\n",
    "vwret = ccm4.groupby(['jdate','szport','momentumport']).apply(wavg, 'retadj', 'wt').to_frame().reset_index().rename(columns={0: 'vwret'})\n",
    "vwret['smport'] = vwret['szport'] + vwret['momentumport'] # <= concat string\n",
    "\n",
    "# firm count\n",
    "vwret_n = ccm4.groupby(['jdate','szport','momentumport'])['retadj'].count().reset_index().rename(columns={'retadj':'n_firms'})\n",
    "vwret_n['smport'] = vwret_n['szport'] + vwret_n['momentumport']\n",
    "\n",
    "# preliminary results\n",
    "# really is transposing the data: use date as index, columns is sbport, values is weighted average\n",
    "ff_factors = vwret.pivot(index='jdate', columns='smport', values='vwret').reset_index()\n",
    "ff_nfirms = vwret_n.pivot(index='jdate', columns='smport', values='n_firms').reset_index()"
   ]
  },
  {
   "cell_type": "code",
   "execution_count": null,
   "metadata": {},
   "outputs": [],
   "source": [
    "ff_factors.head()"
   ]
  },
  {
   "cell_type": "code",
   "execution_count": null,
   "metadata": {},
   "outputs": [],
   "source": [
    "\n",
    "# weighted-average function suggested by Wes McKinney\n",
    "# We decide to make pairs of size and each of the factors, as proposed by Fama French in their five factor asset pricing model paper. \n",
    "#Then size and BM\n",
    "vwret0 = ccm4.groupby(['jdate','szport','bmport']).apply(wavg, 'retadj', 'wt').to_frame().reset_index().rename(columns={0: 'vwret'})\n",
    "vwret0['sbport'] = vwret0['szport'] + vwret0['bmport'] # <= concat string\n",
    "\n",
    "# firm count\n",
    "vwret_n0 = ccm4.groupby(['jdate','szport','bmport'])['retadj'].count().reset_index().rename(columns={'retadj':'n_firms'})\n",
    "vwret_n0['sbport'] = vwret_n0['szport'] + vwret_n0['bmport']\n",
    "\n",
    "# preliminary results\n",
    "# really is transposing the data: use date as index, columns is sbport, values is weighted average\n",
    "ff_factors0 = vwret0.pivot(index='jdate', columns='sbport', values='vwret').reset_index()\n",
    "ff_nfirms0 = vwret_n0.pivot(index='jdate', columns='sbport', values='n_firms').reset_index()"
   ]
  },
  {
   "cell_type": "code",
   "execution_count": null,
   "metadata": {},
   "outputs": [],
   "source": [
    "ff_factors0.head()"
   ]
  },
  {
   "cell_type": "code",
   "execution_count": null,
   "metadata": {},
   "outputs": [],
   "source": [
    "#Then size and profitability\n",
    "vwret01 = ccm4.groupby(['jdate','szport','profitport']).apply(wavg, 'retadj', 'wt').to_frame().reset_index().rename(columns={0: 'vwret'})\n",
    "vwret01['sPport'] = vwret01['szport'] + vwret01['profitport'] # <= concat string\n",
    "\n",
    "# firm count\n",
    "vwret_n01 = ccm4.groupby(['jdate','szport','profitport'])['retadj'].count().reset_index().rename(columns={'retadj':'n_firms'})\n",
    "vwret_n01['sPport'] = vwret_n01['szport'] + vwret_n01['profitport']\n",
    "\n",
    "# preliminary results\n",
    "# really is transposing the data: use date as index, columns is sbport, values is weighted average\n",
    "ff_factors01 = vwret01.pivot(index='jdate', columns='sPport', values='vwret').reset_index()\n",
    "ff_nfirms01 = vwret_n01.pivot(index='jdate', columns='sPport', values='n_firms').reset_index()"
   ]
  },
  {
   "cell_type": "code",
   "execution_count": null,
   "metadata": {},
   "outputs": [],
   "source": [
    "ff_factors01.head()"
   ]
  },
  {
   "cell_type": "code",
   "execution_count": null,
   "metadata": {},
   "outputs": [],
   "source": [
    "#Then size and investment\n",
    "vwret02 = ccm4.groupby(['jdate','szport','investport']).apply(wavg, 'retadj', 'wt').to_frame().reset_index().rename(columns={0: 'vwret'})\n",
    "vwret02['sIport'] = vwret02['szport'] + vwret02['investport'] # <= concat string\n",
    "\n",
    "# firm count\n",
    "vwret_n02 = ccm4.groupby(['jdate','szport','investport'])['retadj'].count().reset_index().rename(columns={'retadj':'n_firms'})\n",
    "vwret_n02['sIport'] = vwret_n02['szport'] + vwret_n02['investport']\n",
    "\n",
    "# preliminary results\n",
    "# really is transposing the data: use date as index, columns is sbport, values is weighted average\n",
    "ff_factors02 = vwret02.pivot(index='jdate', columns='sIport', values='vwret').reset_index()\n",
    "ff_nfirms02 = vwret_n02.pivot(index='jdate', columns='sIport', values='n_firms').reset_index()"
   ]
  },
  {
   "cell_type": "code",
   "execution_count": null,
   "metadata": {},
   "outputs": [],
   "source": [
    "ff_factors02.head()\n"
   ]
  },
  {
   "cell_type": "code",
   "execution_count": null,
   "metadata": {},
   "outputs": [],
   "source": [
    "ff_factors.head()"
   ]
  },
  {
   "cell_type": "markdown",
   "metadata": {},
   "source": [
    "### Creation of the facors"
   ]
  },
  {
   "cell_type": "code",
   "execution_count": null,
   "metadata": {},
   "outputs": [],
   "source": [
    "\n",
    "# Create MOM factors\n",
    "ff_factors['SmallHighRet']=(ff_factors['SHm']+ff_factors['BHm'])/2\n",
    "ff_factors['SmallLowRet']=(ff_factors['SLm']+ff_factors['BLm'])/2\n",
    "ff_factors['Momentum'] = ff_factors['SmallHighRet']-ff_factors['SmallLowRet']\n",
    "\n",
    "# n firm count\n",
    "ff_nfirms['SmallHighRet']=ff_nfirms['SHm']+ff_nfirms['BHm']\n",
    "ff_nfirms['SmallLowRet']=ff_nfirms['SLm']+ff_nfirms['BLm']\n",
    "ff_nfirms['Momentum']=ff_nfirms['SmallHighRet']+ff_nfirms['SmallLowRet']\n",
    "\n",
    "ff_factors=ff_factors.rename(columns={'jdate':'date'})\n",
    "\n",
    "# Create HML factors\n",
    "ff_factors0['WH']=(ff_factors0['BH']+ff_factors0['SH'])/2\n",
    "ff_factors0['WL']=(ff_factors0['BL']+ff_factors0['SL'])/2\n",
    "ff_factors0['WHML'] = ff_factors0['WH']-ff_factors0['WL']\n",
    "\n",
    "# n firm count\n",
    "ff_nfirms0['H']=ff_nfirms0['SH']+ff_nfirms0['BH']\n",
    "ff_nfirms0['L']=ff_nfirms0['SL']+ff_nfirms0['BL']\n",
    "ff_nfirms0['HML']=ff_nfirms0['H']+ff_nfirms0['L']\n",
    "\n",
    "# Creat SMB factor\n",
    "ff_factors0['WB']=(ff_factors0['BL']+ff_factors0['BM']+ff_factors0['BH'])/3\n",
    "ff_factors0['WS']=(ff_factors0['SL']+ff_factors0['SM']+ff_factors0['SH'])/3\n",
    "ff_factors0['WSMB'] = ff_factors0['WS']-ff_factors0['WB']\n",
    "\n",
    "ff_factors0=ff_factors0.rename(columns={'jdate':'date'})\n",
    "\n",
    "# n firm count\n",
    "ff_nfirms0['B']=ff_nfirms0['BL']+ff_nfirms0['BM']+ff_nfirms0['BH']\n",
    "ff_nfirms0['S']=ff_nfirms0['SL']+ff_nfirms0['SM']+ff_nfirms0['SH']\n",
    "ff_nfirms0['SMB']=ff_nfirms0['B']+ff_nfirms0['S']\n",
    "ff_nfirms0['TOTAL']=ff_nfirms0['SMB']\n",
    "\n",
    "ff_nfirms0=ff_nfirms0.rename(columns={'jdate':'date'})\n",
    "\n",
    "# create RWA factor\n",
    "ff_factors01['WeightRobust']=(ff_factors01['SR']+ff_factors01['BR'])*1/2 #half small robut + big robust\n",
    "ff_factors01['WeightWeak']=(ff_factors01['SW']+ff_factors01['BW'])*1/2 #half small weak + big weak\n",
    "ff_factors01['WRW'] = ff_factors01['WeightRobust']-ff_factors01['WeightWeak']\n",
    "\n",
    "# n firm count\n",
    "ff_nfirms01['Robust']=ff_nfirms01['SR']+ff_nfirms01['BR']\n",
    "ff_nfirms01['Weak']=ff_nfirms01['SW']+ff_nfirms01['BW'] \n",
    "ff_nfirms01['RW']=ff_nfirms01['Robust']+ff_nfirms01['Weak']\n",
    "\n",
    "ff_factors01=ff_factors01.rename(columns={'jdate':'date'})\n",
    "ff_nfirms01=ff_nfirms01.rename(columns={'jdate':'date'})\n",
    "\n",
    "#Creat CMA factor\n",
    "ff_factors02['WeightConservative']=(ff_factors02['SC']+ff_factors02['BC'])*1/2 #half small conservative + big conservative\n",
    "ff_factors02['WeightAgressive']=(ff_factors02['SA']+ff_factors02['SA'])*1/2 #half small aggressive + big aggressive\n",
    "ff_factors02['WCA'] = ff_factors02['WeightConservative']-ff_factors02['WeightAgressive']\n",
    "\n",
    "# n firm count\n",
    "ff_nfirms02['Conservative']=ff_nfirms02['SC']+ff_nfirms02['BC']\n",
    "ff_nfirms02['Aggressive']=ff_nfirms02['SA']+ff_nfirms02['BA']\n",
    "ff_nfirms02['CA']=ff_nfirms02['Conservative']+ff_nfirms02['Aggressive']\n",
    "\n",
    "ff_factors02=ff_factors02.rename(columns={'jdate':'date'})\n",
    "ff_nfirms02=ff_nfirms02.rename(columns={'jdate':'date'})\n",
    "\n"
   ]
  },
  {
   "cell_type": "code",
   "execution_count": null,
   "metadata": {},
   "outputs": [],
   "source": [
    "###Make one table with the whole"
   ]
  },
  {
   "cell_type": "code",
   "execution_count": null,
   "metadata": {},
   "outputs": [],
   "source": [
    "\n",
    "table1 = pd.merge(ff_factors[['date','Momentum']], ff_factors0[['date','WSMB','WHML']], how='inner', on=['date'])\n",
    "table2 = pd.merge(table1[['date','Momentum','WSMB','WHML']], ff_factors01[['date','WRW']], how='inner', on=['date'])\n",
    "table3 = pd.merge(table2[['date','Momentum','WSMB','WHML','WRW']], ff_factors02[['date','WCA']], how='inner', on=['date'])\n",
    "table3.tail()"
   ]
  },
  {
   "cell_type": "code",
   "execution_count": null,
   "metadata": {},
   "outputs": [],
   "source": [
    "#Add market excess return and risk free rate from fama french database\n",
    "famafrench = conn.raw_sql(\"SELECT date,mktrf,rf FROM ff.factors_monthly WHERE date between '2007-08-01' and '2018-12-31'\")\n",
    "famafrenchdata = pd.DataFrame(famafrench)\n",
    "famafrenchdata.head()"
   ]
  },
  {
   "cell_type": "code",
   "execution_count": null,
   "metadata": {},
   "outputs": [],
   "source": [
    "#Add market excess return and risk free rate from fama french database\n",
    "famafrench = conn.raw_sql(\"SELECT date,mktrf,rf FROM ff.factors_monthly WHERE date between '2007-07-31' and '2018-12-31'\")\n",
    "famafrenchdata = pd.DataFrame(famafrench)\n",
    "finaltable = pd.merge(table3[['date','Momentum','WSMB','WHML','WRW','WCA']], famafrenchdata[['mktrf','rf']], how='inner',left_index=True, right_index=True)\n",
    "cleantable = pd.DataFrame(finaltable)\n",
    "cleantable.head()"
   ]
  },
  {
   "cell_type": "markdown",
   "metadata": {},
   "source": [
    "### Return of our portfolio calculation"
   ]
  },
  {
   "cell_type": "code",
   "execution_count": null,
   "metadata": {},
   "outputs": [],
   "source": [
    "weightp = max_sharpe_allocation.T\n",
    "weightp.head()\n"
   ]
  },
  {
   "cell_type": "code",
   "execution_count": null,
   "metadata": {},
   "outputs": [],
   "source": [
    "#Extract the returns from the crsp dataset for our selected stocks \n",
    "datasetreturns=data.set_index('date')\n",
    "datagoodreturnsorder=datasetreturns.pivot(columns='permno', values='ret')\n",
    "datagoodreturnsorder.head()\n",
    "\n"
   ]
  },
  {
   "cell_type": "code",
   "execution_count": null,
   "metadata": {},
   "outputs": [],
   "source": [
    "#Calculate the weighted return for each stock for each date\n",
    "weightsarray = np.array(weightp)\n",
    "retarray = np.array(datagoodreturnsorder)\n",
    "weightedreturn = weightsarray/100 * retarray\n",
    "df =pd.DataFrame(weightedreturn)\n",
    "df.tail()"
   ]
  },
  {
   "cell_type": "code",
   "execution_count": null,
   "metadata": {},
   "outputs": [],
   "source": [
    "#Sum all the returns from each stocks at each date to have the portfolio return\n",
    "Portfolio = df.sum(axis=1)\n",
    "PortfolioRet = pd.DataFrame(Portfolio)\n",
    "PortfolioRet.columns = ['Ret']\n",
    "PortfolioRet.head()"
   ]
  },
  {
   "cell_type": "code",
   "execution_count": null,
   "metadata": {},
   "outputs": [],
   "source": [
    "#Merge with the other factors\n",
    "FinalData=pd.merge(cleantable[['date','Momentum','WSMB','WHML','WRW','WCA','mktrf','rf']], PortfolioRet[['Ret']], how='inner',left_index=True, right_index=True)\n",
    "FinalData.tail()"
   ]
  },
  {
   "cell_type": "code",
   "execution_count": null,
   "metadata": {
    "scrolled": true
   },
   "outputs": [],
   "source": [
    "#compute the excess return from our portfolio\n",
    "FinalData['ExcessRetPort'] = FinalData['Ret'] - FinalData['rf']\n",
    "FinalData.head()"
   ]
  },
  {
   "cell_type": "markdown",
   "metadata": {},
   "source": [
    "# Test CAPM"
   ]
  },
  {
   "cell_type": "code",
   "execution_count": null,
   "metadata": {},
   "outputs": [],
   "source": [
    "resultscapm = sm.ols(formula = 'ExcessRetPort ~ mktrf',data = FinalData).fit()\n",
    "print(resultscapm.params)"
   ]
  },
  {
   "cell_type": "code",
   "execution_count": null,
   "metadata": {},
   "outputs": [],
   "source": [
    "print(resultscapm.summary())\n",
    "#as we can see CAPM is rejected as the t-value is inferior to any conventional significance level. \n",
    "#Furthermore, as the intercept has a t-value higher than 1.96 or 2.52, our portfolio has a positive alpha meaning that it beat the market>"
   ]
  },
  {
   "cell_type": "markdown",
   "metadata": {},
   "source": [
    "# Test Fama French 3 factors"
   ]
  },
  {
   "cell_type": "code",
   "execution_count": null,
   "metadata": {},
   "outputs": [],
   "source": [
    "resultsff3 = sm.ols(formula = 'ExcessRetPort ~ mktrf+WSMB+WHML ',data = FinalData).fit()\n",
    "print(resultsff3.params)"
   ]
  },
  {
   "cell_type": "code",
   "execution_count": null,
   "metadata": {},
   "outputs": [],
   "source": [
    "print(resultsff3.summary())\n",
    "#Again, we have a positive alpha which is statistically significant and the market correlation isn't.\n",
    "# SMB factor is highly significant meaning that we should invest in small stocks and short big market cap stocks. \n",
    "# HML is not statistically significant\n",
    "#Rsquare increases by 18pts"
   ]
  },
  {
   "cell_type": "markdown",
   "metadata": {},
   "source": [
    "# Test 6 factors"
   ]
  },
  {
   "cell_type": "code",
   "execution_count": null,
   "metadata": {},
   "outputs": [],
   "source": [
    "resultsff6 = sm.ols(formula = 'ExcessRetPort ~ mktrf+WSMB+WHML+Momentum+WRW+WCA',data = FinalData).fit()\n",
    "print(resultsff6.params)"
   ]
  },
  {
   "cell_type": "code",
   "execution_count": null,
   "metadata": {},
   "outputs": [],
   "source": [
    "print(resultsff6.summary())\n",
    "#The market, HML and CA are not statistically significant.\n",
    "# SMB is significant and positive hence should buy small stocks and short big market stocks\n",
    "#MOmentum is significant and negative, therefore we should short winners within our portfolio. \n",
    "#Robust portfolio is significant and negative, therefore we should short stocks that have high operating profitability within our portfolio. "
   ]
  },
  {
   "cell_type": "code",
   "execution_count": null,
   "metadata": {},
   "outputs": [],
   "source": [
    "### full \n",
    "# mastercard 10 only, kla tencor 13 2018 included, exelixis inc 6 (died after 2011?), brown & brown 1 only 2017 "
   ]
  },
  {
   "cell_type": "markdown",
   "metadata": {},
   "source": [
    "# Part 3"
   ]
  },
  {
   "cell_type": "code",
   "execution_count": null,
   "metadata": {},
   "outputs": [],
   "source": [
    "import csv\n",
    "import datetime\n",
    "import time\n",
    "import pandas as pd\n",
    "import numpy as np\n",
    "import sqlite3\n",
    "import requests\n",
    "import os\n",
    "import re\n",
    "import requests\n",
    "import pickle # nice module name, isn't it?\n",
    "from bs4 import BeautifulSoup\n",
    "from sqlalchemy import create_engine\n",
    "from nltk.tokenize import RegexpTokenizer, sent_tokenize\n",
    "from nltk.corpus import stopwords\n"
   ]
  },
  {
   "cell_type": "code",
   "execution_count": null,
   "metadata": {},
   "outputs": [],
   "source": [
    "try:\n",
    "   import selenium\n",
    "except ImportError: \n",
    "    !pip install selenium"
   ]
  },
  {
   "cell_type": "code",
   "execution_count": null,
   "metadata": {},
   "outputs": [],
   "source": [
    "from selenium import webdriver"
   ]
  },
  {
   "cell_type": "code",
   "execution_count": null,
   "metadata": {},
   "outputs": [],
   "source": [
    "ourcompany    = ['3M CO',\n",
    "                 'AMERISOURCEBERGEN CORP',\n",
    "                 'APPLE INC',\n",
    "                 'ARTESIAN RESOURCES CORP',\n",
    "                 'BERKSHIRE HATHAWAY INC',\n",
    "                 'BOSTON SCIENTIFIC CORP',\n",
    "                 'BROWN FORMAN CORP',\n",
    "                 'CALIFORNIA WATER SERVICE GROUP',\n",
    "                 'CROSS TIMBERS ROYALTY TRUST',\n",
    "                 'EATON VANCE CORP',\n",
    "                 'EBAY INC',\n",
    "                 'ESTEE LAUDER COMPANIES INC',\n",
    "                 'EXXON MOBIL CORP',\n",
    "                 'FLEXSTEEL INDUSTRIES INC',\n",
    "                 'FREQUENCY ELECTRONICS INC',\n",
    "                 'GENERAL ELECTRIC CO',\n",
    "                 'GENOMIC HEALTH INC',\n",
    "                 'GILEAD SCIENCES INC',\n",
    "                 'GRACO INC',\n",
    "                 'GRAINGER W W INC',\n",
    "                 'HALLIBURTON CO',\n",
    "                 'IMMERSION CORP',\n",
    "                 'INTEL CORP',\n",
    "                 'KRONOS WORLDWIDE INC',\n",
    "                 'LILLY ELI & CO',\n",
    "                 'MEDIFAST INC',\n",
    "                 'MICROSOFT CORP',\n",
    "                 'MOLINA HEALTHCARE INC',\n",
    "                 'NATIONAL FUEL GAS CO',\n",
    "                 'NEKTAR THERAPEUTICS',\n",
    "                 'NETSCOUT SYSTEMS INC'\n",
    "                 'NIKE INC']"
   ]
  },
  {
   "cell_type": "code",
   "execution_count": null,
   "metadata": {},
   "outputs": [],
   "source": [
    "reserves =     ['NORTH EUROPEAN OIL ROYALTY TRUST',\n",
    "                'NVIDIA CORP',\n",
    "                'PARK ELECTROCHEMICAL CORP',\n",
    "                'PEPSICO INC',\n",
    "                'PERMIAN BASIN ROYALTY TRUST',\n",
    "                'PSYCHEMEDICS CORP',\n",
    "                'RANGE RESOURCES CORP',\n",
    "                'RED ROBIN GOURMET BURGERS INC',\n",
    "                'RITE AID CORP',\n",
    "                'ROSS STORES INC',\n",
    "                'SABINE ROYALTY TRUST',\n",
    "                'SOUTHWESTERN ENERGY CO',\n",
    "                'SYMANTEC CORP',\n",
    "                'TREX CO INC',\n",
    "                'Under Armour, Inc.',\n",
    "                'UNITEDHEALTH GROUP INC',\n",
    "                'VERIZON COMMUNICATIONS INC',\n",
    "                'XILINX INC']"
   ]
  },
  {
   "cell_type": "code",
   "execution_count": null,
   "metadata": {},
   "outputs": [],
   "source": [
    "ourcompanies = ourcompany + reserves\n",
    "files = ['10-K']"
   ]
  },
  {
   "cell_type": "code",
   "execution_count": null,
   "metadata": {},
   "outputs": [],
   "source": [
    "PERMNO = ['31051','36768','62228','75652','77729','82279','87179',\n",
    "          '89453','90900','91556']"
   ]
  },
  {
   "cell_type": "code",
   "execution_count": null,
   "metadata": {},
   "outputs": [],
   "source": [
    "## Function needed"
   ]
  },
  {
   "cell_type": "code",
   "execution_count": null,
   "metadata": {},
   "outputs": [],
   "source": [
    "stopWordsFile = 'C:/Users/Alexander/Documents/Lancaster/Msc Finance/600 classes/ACF 602 Advanced Investment Management/Coursework/EDGAR-reports-Text-Analysis-master/StopWords_Generic.txt'\n",
    "constraining_dictionaryFile  = 'C:/Users/Alexander/Documents/Lancaster/Msc Finance/600 classes/ACF 602 Advanced Investment Management/Coursework/EDGAR-reports-Text-Analysis-master/constraining_dictionary.txt'\n"
   ]
  },
  {
   "cell_type": "code",
   "execution_count": null,
   "metadata": {},
   "outputs": [],
   "source": [
    "def url_to_text(url):\n",
    "    resp = requests.get(url)\n",
    "    soup = BeautifulSoup(resp.text, 'html.parser')\n",
    "    for table in soup.find_all('table'):\n",
    "        table.decompose()\n",
    "    text = soup.get_text()\n",
    "    return text\n",
    "#Count total Words\n",
    "    \n",
    "def count_words(text):\n",
    "    return len(str(text).split(\" \"))\n",
    "\n",
    "# Count total characters\n",
    "def count_chars(text):\n",
    "    return len(str(text))\n",
    "\n",
    "# Count numerics\n",
    "def count_digit(text):\n",
    "    return len([word for word in str(text).split(\" \") if word.isdigit()]) # isdigit() is a string method\n",
    "\n",
    "# Count stopwords\n",
    "def count_stopwords(text, stop=stopwords.words('english')):\n",
    "    num = len([word for word in str(text).split(' ') if word in stop])\n",
    "    perc = num/len(str(text).split(\" \"))\n",
    "    return num, perc\n",
    "\n",
    "def clean_text_round2(text):\n",
    "    # convert to lower case\n",
    "    text = text.lower()\n",
    "    text = re.sub(r'(\\t|\\v)', '', text)\n",
    "    # remove \\xa0 which is non-breaking space from ISO 8859-1, how to delete all remaining ISO 8859-1 symbols & chars?\n",
    "    text = re.sub(r'\\xa0', ' ', text)\n",
    "    # remove newline feeds (\\n) following hyphens\n",
    "    text = re.sub(r'(-+)\\n{2,}', r'\\1', text)\n",
    "    # remove hyphens preceded and followed by a blank space\n",
    "    text = re.sub(r'\\s-\\s', '', text)\n",
    "    # replace 'and/or' with 'and or'\n",
    "    text = re.sub(r'and/or', r'and or', text)\n",
    "    # tow or more hypens, periods, or equal signs, possiblly followed by spaces are removed\n",
    "    text = re.sub(r'[-|\\.|=]{2,}\\s*', r'', text)\n",
    "    # all underscores are removed\n",
    "    text = re.sub(r'_', '', text)\n",
    "    # 3 or more spaces are replaced by a single space\n",
    "    text = re.sub(r'\\s{3,}', ' ', text)\n",
    "    # three or more line feeds, possibly separated by spaces are replaced by two line feeds\n",
    "    text = re.sub(r'(\\n\\s*){3,}', '\\n\\n', text)\n",
    "    # remove hyphens before a line feed\n",
    "    text = re.sub(r'-+\\n', '\\n', text)\n",
    "    # replace hyphens preceding a capitalized letter with a space\n",
    "    text = re.sub(r'-+([A-Z].*)', r' \\1', text)\n",
    "    # remove capitalized or all capitals for March, May and August\n",
    "    text = re.sub(r'(March|MARCH|May|MAY|August|AUGUST)', '', text)\n",
    "    # remove punctuations\n",
    "    #text = re.sub('[]'.format(re.escape(string.punctuation)), '', text)\n",
    "    # remove line feeds\n",
    "    text = re.sub('\\n', ' ', text)\n",
    "    # remove numbers?\n",
    "    # replace single line feed \\n with single space\n",
    "    text = re.sub(r'\\n', ' ', text)\n",
    "    return text\n",
    "\n",
    "# NOTE: \n",
    "## drop punctuation within numbers for number count\n",
    "    text = re.sub('(?!=[0-9])(\\.|,)(?=[0-9])', '', text)\n",
    "    \n",
    "#tokenizeing module and filtering tokens using stop words list, removing punctuations\n",
    "# Tokenizer\n",
    "def tokenizer(text):\n",
    "    text = text.lower()\n",
    "    tokenizer = RegexpTokenizer(r'\\w+')\n",
    "    tokens = tokenizer.tokenize(text)\n",
    "    filtered_words = list(filter(lambda token: token not in stopWordList, tokens))\n",
    "    return filtered_words\n",
    "\n",
    "#Loading stop words dictionary for removing stop words\n",
    "with open(stopWordsFile ,'r') as stop_words:\n",
    "    stopWords = stop_words.read().lower()\n",
    "stopWordList = stopWords.split('\\n')\n",
    "stopWordList[-1:] = []\n",
    "\n",
    "def total_word_count(text):\n",
    "    tokens = tokenizer(text)\n",
    "    return len(tokens)\n",
    "\n",
    "# calculating constraining score\n",
    "with open(constraining_dictionaryFile ,'r') as constraining_dict:\n",
    "    constrainDict=constraining_dict.read().lower()\n",
    "constrainDictionary = constrainDict.split('\\n')\n",
    "\n",
    "def constraining_score(text):\n",
    "    constrainWordnum =0\n",
    "    rawToken = tokenizer(text)\n",
    "    for word in rawToken:\n",
    "        if word in constrainDictionary:\n",
    "            constrainWordnum +=1\n",
    "    sumConstrainScore = constrainWordnum \n",
    "    \n",
    "    return sumConstrainScore\n",
    "\n",
    "# Calculating constraining word proportion\n",
    "\n",
    "def constraining_word_prop(constrainingScore,wordcount):\n",
    "    constraining_word_proportion = 0\n",
    "    if wordcount !=0:\n",
    "        constraining_word_proportion = constrainingScore / wordcount\n",
    "        \n",
    "    return constraining_word_proportion"
   ]
  },
  {
   "cell_type": "code",
   "execution_count": null,
   "metadata": {},
   "outputs": [],
   "source": [
    "#2008"
   ]
  },
  {
   "cell_type": "code",
   "execution_count": null,
   "metadata": {},
   "outputs": [],
   "source": [
    "current_year = 2008 #datetime.date.today().year\n",
    "current_quarter = 4 #(datetime.date.today().month - 1) // 3 + 1\n",
    "start_year = 2008\n",
    "\n",
    "\n",
    "years = list(range(start_year, current_year))\n",
    "quarters = ['QTR1', 'QTR2', 'QTR3', 'QTR4']\n",
    "history = [(y, q) for y in years for q in quarters]\n",
    "#Look to look into the time frame wanted\n",
    "for i in range(1, current_quarter + 1):\n",
    "    history.append((current_year, 'QTR%d' % i))\n",
    "urls = ['https://www.sec.gov/Archives/edgar/full-index/%d/%s/crawler.idx' % (x[0], x[1]) for x in history]\n",
    "urls.sort()\n",
    "\n",
    "#Pass via sqlite3 as is more efficient\n",
    "con = sqlite3.connect('edgar_htm_idx.db')\n",
    "cur = con.cursor()\n",
    "cur.execute('DROP TABLE IF EXISTS idx')\n",
    "cur.execute('CREATE TABLE idx (conm TEXT, type TEXT, cik TEXT, date TEXT, path TEXT)')\n",
    " \n",
    "for url in urls:\n",
    "    lines = requests.get(url).text.splitlines()\n",
    "    cikloc = lines[7].find('CIK')\n",
    "    nameloc = lines[7].find('Company Name')\n",
    "    typeloc = lines[7].find('Form Type')\n",
    "    dateloc = lines[7].find('Date Filed')\n",
    "    urlloc = lines[7].find('URL')\n",
    "    records = [tuple([line[:typeloc].strip(), line[typeloc:cikloc].strip(), line[cikloc:dateloc].strip(),\n",
    "                      line[dateloc:urlloc].strip(), line[urlloc:].strip()]) for line in lines[9:]]\n",
    "    cur.executemany('INSERT INTO idx VALUES (?, ?, ?, ?, ?)', records)\n",
    "    print(url, 'downloaded and wrote to SQLite')\n",
    " \n",
    "con.commit()\n",
    "con.close()\n",
    "\n",
    "engine2 = create_engine('sqlite:///edgar_htm_idx.db')\n",
    "with engine2.connect() as conn, conn.begin():\n",
    "    data30 = pd.read_sql_table('idx', conn)\n",
    "    \n",
    "dataourcomp1 = data30[data30['conm'].isin(ourcompanies)]\n",
    "dataourcomp1 = dataourcomp1[dataourcomp1['type'].isin(files)]\n",
    "\n",
    "#rearange\n",
    "dataourcomp1 = dataourcomp1[['cik','conm','type','date','path']]\n",
    "\n",
    "#save in csv\n",
    "dataourcomp1.to_csv('edgar_htm_idx.csv')\n",
    "\n",
    "#open the html \n",
    "with open('log09.csv', 'w', newline='') as log:\n",
    "    logwriter = csv.writer(log)\n",
    " \n",
    "    with open('edgar_htm_idx.csv', newline='') as infile:\n",
    "        records = csv.reader(infile)\n",
    " \n",
    "        for r in records:\n",
    "            log_row = r.copy()\n",
    "            print('Start fetching URL to', r[2], r[3], 'filed on', r[4], '...')\n",
    "            start_time = time.strftime('%Y-%m-%d %H:%M:%S', time.localtime())\n",
    " \n",
    "            driver = webdriver.Chrome('./chromedriver')\n",
    " \n",
    "            try:\n",
    "                driver.get(r[5])\n",
    "                #time.sleep(3 + random.random() * 3)\n",
    "                filing_date = driver.find_element_by_xpath('//*[@id=\"formDiv\"]/div[2]/div[1]/div[2]').text\n",
    "                period_of_report = driver.find_element_by_xpath('//*[@id=\"formDiv\"]/div[2]/div[2]/div[2]').text\n",
    "                form_text = driver.find_element_by_xpath('//*[@id=\"formDiv\"]/div/table/tbody/tr[2]/td[3]/a').text\n",
    "                form_link = driver.find_element_by_link_text(form_text).get_attribute('href')\n",
    "                end_time = time.strftime('%Y-%m-%d %H:%M:%S', time.localtime())\n",
    "                print('Success!', start_time, ' --> ', end_time, '\\n')\n",
    "                log_row = log_row + [start_time, end_time, filing_date, period_of_report, form_link]\n",
    " \n",
    "            except:\n",
    "                end_time = time.strftime('%Y-%m-%d %H:%M:%S', time.localtime())\n",
    "                print('Error!', start_time, ' --> ', end_time, '\\n')\n",
    "                log_row = log_row + [start_time, end_time, 'ERROR!']\n",
    " \n",
    "            driver.quit()\n",
    " \n",
    "            logwriter.writerow(log_row)\n",
    "#read csv\n",
    "FinalDataAnalysis1 = pd.read_csv('log09.csv')\n",
    "\n",
    "#Paths \n",
    "FFdata1 = FinalDataAnalysis1.iloc[:,8]\n",
    "\n",
    "# Actually obtain the text from requests via EDGAR, parsing using BS4 then text\n",
    "texts1 = [url_to_text(url) for url in FFdata1]\n",
    "\n",
    "# access index and value for a list\n",
    "for idx, val in enumerate(ourcompanies):\n",
    "    with open(val + \".pkl\", \"wb\") as f:\n",
    "        pickle.dump(texts1[idx], f)\n",
    "        \n",
    "# Load pickled files into a dictionary\n",
    "# Key: company name\n",
    "# value: parsed 10K text\n",
    "datacleaned1 = {}\n",
    "\n",
    "for _, val in enumerate(ourcompanies):\n",
    "    with open(val + \".pkl\", \"rb\") as f:\n",
    "        datacleaned1[val] = pickle.load(f)\n",
    "\n",
    "#Load dictionary\n",
    "df001 = pd.DataFrame.from_dict(datacleaned1, orient='index', columns = ['text'])\n",
    "\n",
    "# deal with reserved special html characters such as non-breaking space (`&nbsp`)\n",
    "html_chars = {'&lt': 'lt', '&#60': 'lt', \n",
    "              '&gt': 'gt', '&#62': 'gt',\n",
    "              '&nbsp': '', '&#160': '', \n",
    "              '&quot': '\"', '&#34': '\"', \n",
    "              '&apos': '\\'', '&#39': '\\'',\n",
    "              '&amp': '&', '&#38': '&'}\n",
    "df1 = pd.DataFrame(df001['text'].apply(clean_text_round2))\n",
    "\n",
    "#counts the constraining words \n",
    "df1['constraining_score'] = df1.iloc[:,0].apply(constraining_score)\n",
    "df1['word_count'] = df1.iloc[:,0].apply(total_word_count)\n",
    "df1['constraining_word_proportion'] = np.vectorize(constraining_word_prop)(df1['constraining_score'],df1['word_count'])\n",
    "\n",
    "#create our final table for the year\n",
    "year1 =df1.drop('text', axis=1)\n",
    "year1= year1.drop('constraining_score', axis=1)\n",
    "year1= year1.drop('word_count', axis=1)\n",
    "year1.index.name ='Company Name'\n",
    "year1 = year1.rename(index=str, columns ={'constraining_word_proportion':'%cons'})\n",
    "year1['permno'] =PERMNO\n",
    "year1['date'] = '2008-06-30'\n",
    "year1['ffyear'] = 2008"
   ]
  },
  {
   "cell_type": "code",
   "execution_count": null,
   "metadata": {},
   "outputs": [],
   "source": [
    "#2009"
   ]
  },
  {
   "cell_type": "code",
   "execution_count": null,
   "metadata": {},
   "outputs": [],
   "source": [
    "current_year = 2009 #datetime.date.today().year\n",
    "current_quarter = 4 #(datetime.date.today().month - 1) // 3 + 1\n",
    "start_year = 2009\n",
    "\n",
    "\n",
    "years = list(range(start_year, current_year))\n",
    "quarters = ['QTR1', 'QTR2', 'QTR3', 'QTR4']\n",
    "history = [(y, q) for y in years for q in quarters]\n",
    "#Look to look into the time frame wanted\n",
    "for i in range(1, current_quarter + 1):\n",
    "    history.append((current_year, 'QTR%d' % i))\n",
    "urls = ['https://www.sec.gov/Archives/edgar/full-index/%d/%s/crawler.idx' % (x[0], x[1]) for x in history]\n",
    "urls.sort()\n",
    "\n",
    "#Pass via sqlite3 as is more efficient\n",
    "con = sqlite3.connect('edgar_htm_idx.db')\n",
    "cur = con.cursor()\n",
    "cur.execute('DROP TABLE IF EXISTS idx')\n",
    "cur.execute('CREATE TABLE idx (conm TEXT, type TEXT, cik TEXT, date TEXT, path TEXT)')\n",
    " \n",
    "for url in urls:\n",
    "    lines = requests.get(url).text.splitlines()\n",
    "    cikloc = lines[7].find('CIK')\n",
    "    nameloc = lines[7].find('Company Name')\n",
    "    typeloc = lines[7].find('Form Type')\n",
    "    dateloc = lines[7].find('Date Filed')\n",
    "    urlloc = lines[7].find('URL')\n",
    "    records = [tuple([line[:typeloc].strip(), line[typeloc:cikloc].strip(), line[cikloc:dateloc].strip(),\n",
    "                      line[dateloc:urlloc].strip(), line[urlloc:].strip()]) for line in lines[9:]]\n",
    "    cur.executemany('INSERT INTO idx VALUES (?, ?, ?, ?, ?)', records)\n",
    "    print(url, 'downloaded and wrote to SQLite')\n",
    " \n",
    "con.commit()\n",
    "con.close()\n",
    "\n",
    "engine2 = create_engine('sqlite:///edgar_htm_idx.db')\n",
    "with engine2.connect() as conn, conn.begin():\n",
    "    data30 = pd.read_sql_table('idx', conn)\n",
    "    \n",
    "dataourcomp1 = data30[data30['conm'].isin(ourcompanies)]\n",
    "dataourcomp1 = dataourcomp1[dataourcomp1['type'].isin(files)]\n",
    "\n",
    "#rearange\n",
    "dataourcomp1 = dataourcomp1[['cik','conm','type','date','path']]\n",
    "\n",
    "#save in csv\n",
    "dataourcomp1.to_csv('edgar_htm_idx.csv')\n",
    "\n",
    "#open the html \n",
    "with open('log09.csv', 'w', newline='') as log:\n",
    "    logwriter = csv.writer(log)\n",
    " \n",
    "    with open('edgar_htm_idx.csv', newline='') as infile:\n",
    "        records = csv.reader(infile)\n",
    " \n",
    "        for r in records:\n",
    "            log_row = r.copy()\n",
    "            print('Start fetching URL to', r[2], r[3], 'filed on', r[4], '...')\n",
    "            start_time = time.strftime('%Y-%m-%d %H:%M:%S', time.localtime())\n",
    " \n",
    "            driver = webdriver.Chrome('./chromedriver')\n",
    " \n",
    "            try:\n",
    "                driver.get(r[5])\n",
    "                #time.sleep(3 + random.random() * 3)\n",
    "                filing_date = driver.find_element_by_xpath('//*[@id=\"formDiv\"]/div[2]/div[1]/div[2]').text\n",
    "                period_of_report = driver.find_element_by_xpath('//*[@id=\"formDiv\"]/div[2]/div[2]/div[2]').text\n",
    "                form_text = driver.find_element_by_xpath('//*[@id=\"formDiv\"]/div/table/tbody/tr[2]/td[3]/a').text\n",
    "                form_link = driver.find_element_by_link_text(form_text).get_attribute('href')\n",
    "                end_time = time.strftime('%Y-%m-%d %H:%M:%S', time.localtime())\n",
    "                print('Success!', start_time, ' --> ', end_time, '\\n')\n",
    "                log_row = log_row + [start_time, end_time, filing_date, period_of_report, form_link]\n",
    " \n",
    "            except:\n",
    "                end_time = time.strftime('%Y-%m-%d %H:%M:%S', time.localtime())\n",
    "                print('Error!', start_time, ' --> ', end_time, '\\n')\n",
    "                log_row = log_row + [start_time, end_time, 'ERROR!']\n",
    " \n",
    "            driver.quit()\n",
    " \n",
    "            logwriter.writerow(log_row)\n",
    "#read csv\n",
    "FinalDataAnalysis1 = pd.read_csv('log09.csv')\n",
    "\n",
    "#Paths \n",
    "FFdata1 = FinalDataAnalysis1.iloc[:,8]\n",
    "\n",
    "# Actually obtain the text from requests via EDGAR, parsing using BS4 then text\n",
    "texts1 = [url_to_text(url) for url in FFdata1]\n",
    "\n",
    "# access index and value for a list\n",
    "for idx, val in enumerate(ourcompanies):\n",
    "    with open(val + \".pkl\", \"wb\") as f:\n",
    "        pickle.dump(texts1[idx], f)\n",
    "        \n",
    "# Load pickled files into a dictionary\n",
    "# Key: company name\n",
    "# value: parsed 10K text\n",
    "datacleaned1 = {}\n",
    "\n",
    "for _, val in enumerate(ourcompanies):\n",
    "    with open(val + \".pkl\", \"rb\") as f:\n",
    "        datacleaned1[val] = pickle.load(f)\n",
    "\n",
    "#Load dictionary\n",
    "df001 = pd.DataFrame.from_dict(datacleaned1, orient='index', columns = ['text'])\n",
    "\n",
    "# deal with reserved special html characters such as non-breaking space (`&nbsp`)\n",
    "html_chars = {'&lt': 'lt', '&#60': 'lt', \n",
    "              '&gt': 'gt', '&#62': 'gt',\n",
    "              '&nbsp': '', '&#160': '', \n",
    "              '&quot': '\"', '&#34': '\"', \n",
    "              '&apos': '\\'', '&#39': '\\'',\n",
    "              '&amp': '&', '&#38': '&'}\n",
    "df1 = pd.DataFrame(df001['text'].apply(clean_text_round2))\n",
    "\n",
    "#counts the constraining words \n",
    "df1['constraining_score'] = df1.iloc[:,0].apply(constraining_score)\n",
    "df1['word_count'] = df1.iloc[:,0].apply(total_word_count)\n",
    "df1['constraining_word_proportion'] = np.vectorize(constraining_word_prop)(df1['constraining_score'],df1['word_count'])\n",
    "\n",
    "#create our final table for the year\n",
    "year2 =df1.drop('text', axis=1)\n",
    "year2= year2.drop('constraining_score', axis=1)\n",
    "year2= year2.drop('word_count', axis=1)\n",
    "year2.index.name ='Company Name'\n",
    "year2 = year2.rename(index=str, columns ={'constraining_word_proportion':'%cons'})\n",
    "year2['permno'] =PERMNO\n",
    "year2['date'] = '2009-06-30'\n",
    "year2['ffyear'] = 2009"
   ]
  },
  {
   "cell_type": "code",
   "execution_count": null,
   "metadata": {},
   "outputs": [],
   "source": [
    "#2010"
   ]
  },
  {
   "cell_type": "code",
   "execution_count": null,
   "metadata": {},
   "outputs": [],
   "source": [
    "current_year = 2010 #datetime.date.today().year\n",
    "current_quarter = 4 #(datetime.date.today().month - 1) // 3 + 1\n",
    "start_year = 2010\n",
    "\n",
    "\n",
    "years = list(range(start_year, current_year))\n",
    "quarters = ['QTR1', 'QTR2', 'QTR3', 'QTR4']\n",
    "history = [(y, q) for y in years for q in quarters]\n",
    "#Look to look into the time frame wanted\n",
    "for i in range(1, current_quarter + 1):\n",
    "    history.append((current_year, 'QTR%d' % i))\n",
    "urls = ['https://www.sec.gov/Archives/edgar/full-index/%d/%s/crawler.idx' % (x[0], x[1]) for x in history]\n",
    "urls.sort()\n",
    "\n",
    "#Pass via sqlite3 as is more efficient\n",
    "con = sqlite3.connect('edgar_htm_idx.db')\n",
    "cur = con.cursor()\n",
    "cur.execute('DROP TABLE IF EXISTS idx')\n",
    "cur.execute('CREATE TABLE idx (conm TEXT, type TEXT, cik TEXT, date TEXT, path TEXT)')\n",
    " \n",
    "for url in urls:\n",
    "    lines = requests.get(url).text.splitlines()\n",
    "    cikloc = lines[7].find('CIK')\n",
    "    nameloc = lines[7].find('Company Name')\n",
    "    typeloc = lines[7].find('Form Type')\n",
    "    dateloc = lines[7].find('Date Filed')\n",
    "    urlloc = lines[7].find('URL')\n",
    "    records = [tuple([line[:typeloc].strip(), line[typeloc:cikloc].strip(), line[cikloc:dateloc].strip(),\n",
    "                      line[dateloc:urlloc].strip(), line[urlloc:].strip()]) for line in lines[9:]]\n",
    "    cur.executemany('INSERT INTO idx VALUES (?, ?, ?, ?, ?)', records)\n",
    "    print(url, 'downloaded and wrote to SQLite')\n",
    " \n",
    "con.commit()\n",
    "con.close()\n",
    "\n",
    "engine2 = create_engine('sqlite:///edgar_htm_idx.db')\n",
    "with engine2.connect() as conn, conn.begin():\n",
    "    data30 = pd.read_sql_table('idx', conn)\n",
    "    \n",
    "dataourcomp1 = data30[data30['conm'].isin(ourcompanies)]\n",
    "dataourcomp1 = dataourcomp1[dataourcomp1['type'].isin(files)]\n",
    "\n",
    "#rearange\n",
    "dataourcomp1 = dataourcomp1[['cik','conm','type','date','path']]\n",
    "\n",
    "#save in csv\n",
    "dataourcomp1.to_csv('edgar_htm_idx.csv')\n",
    "\n",
    "#open the html \n",
    "with open('log09.csv', 'w', newline='') as log:\n",
    "    logwriter = csv.writer(log)\n",
    " \n",
    "    with open('edgar_htm_idx.csv', newline='') as infile:\n",
    "        records = csv.reader(infile)\n",
    " \n",
    "        for r in records:\n",
    "            log_row = r.copy()\n",
    "            print('Start fetching URL to', r[2], r[3], 'filed on', r[4], '...')\n",
    "            start_time = time.strftime('%Y-%m-%d %H:%M:%S', time.localtime())\n",
    " \n",
    "            driver = webdriver.Chrome('./chromedriver')\n",
    " \n",
    "            try:\n",
    "                driver.get(r[5])\n",
    "                #time.sleep(3 + random.random() * 3)\n",
    "                filing_date = driver.find_element_by_xpath('//*[@id=\"formDiv\"]/div[2]/div[1]/div[2]').text\n",
    "                period_of_report = driver.find_element_by_xpath('//*[@id=\"formDiv\"]/div[2]/div[2]/div[2]').text\n",
    "                form_text = driver.find_element_by_xpath('//*[@id=\"formDiv\"]/div/table/tbody/tr[2]/td[3]/a').text\n",
    "                form_link = driver.find_element_by_link_text(form_text).get_attribute('href')\n",
    "                end_time = time.strftime('%Y-%m-%d %H:%M:%S', time.localtime())\n",
    "                print('Success!', start_time, ' --> ', end_time, '\\n')\n",
    "                log_row = log_row + [start_time, end_time, filing_date, period_of_report, form_link]\n",
    " \n",
    "            except:\n",
    "                end_time = time.strftime('%Y-%m-%d %H:%M:%S', time.localtime())\n",
    "                print('Error!', start_time, ' --> ', end_time, '\\n')\n",
    "                log_row = log_row + [start_time, end_time, 'ERROR!']\n",
    " \n",
    "            driver.quit()\n",
    " \n",
    "            logwriter.writerow(log_row)\n",
    "#read csv\n",
    "FinalDataAnalysis1 = pd.read_csv('log09.csv')\n",
    "\n",
    "#Paths \n",
    "FFdata1 = FinalDataAnalysis1.iloc[:,8]\n",
    "\n",
    "# Actually obtain the text from requests via EDGAR, parsing using BS4 then text\n",
    "texts1 = [url_to_text(url) for url in FFdata1]\n",
    "\n",
    "# access index and value for a list\n",
    "for idx, val in enumerate(ourcompanies):\n",
    "    with open(val + \".pkl\", \"wb\") as f:\n",
    "        pickle.dump(texts1[idx], f)\n",
    "        \n",
    "# Load pickled files into a dictionary\n",
    "# Key: company name\n",
    "# value: parsed 10K text\n",
    "datacleaned1 = {}\n",
    "\n",
    "for _, val in enumerate(ourcompanies):\n",
    "    with open(val + \".pkl\", \"rb\") as f:\n",
    "        datacleaned1[val] = pickle.load(f)\n",
    "\n",
    "#Load dictionary\n",
    "df001 = pd.DataFrame.from_dict(datacleaned1, orient='index', columns = ['text'])\n",
    "\n",
    "# deal with reserved special html characters such as non-breaking space (`&nbsp`)\n",
    "html_chars = {'&lt': 'lt', '&#60': 'lt', \n",
    "              '&gt': 'gt', '&#62': 'gt',\n",
    "              '&nbsp': '', '&#160': '', \n",
    "              '&quot': '\"', '&#34': '\"', \n",
    "              '&apos': '\\'', '&#39': '\\'',\n",
    "              '&amp': '&', '&#38': '&'}\n",
    "df1 = pd.DataFrame(df001['text'].apply(clean_text_round2))\n",
    "\n",
    "#counts the constraining words \n",
    "df1['constraining_score'] = df1.iloc[:,0].apply(constraining_score)\n",
    "df1['word_count'] = df1.iloc[:,0].apply(total_word_count)\n",
    "df1['constraining_word_proportion'] = np.vectorize(constraining_word_prop)(df1['constraining_score'],df1['word_count'])\n",
    "\n",
    "#create our final table for the year\n",
    "year3 =df1.drop('text', axis=1)\n",
    "year3= year3.drop('constraining_score', axis=1)\n",
    "year3= year3.drop('word_count', axis=1)\n",
    "year3.index.name ='Company Name'\n",
    "year3 = year3.rename(index=str, columns ={'constraining_word_proportion':'%cons'})\n",
    "year3['permno'] =PERMNO\n",
    "year3['date'] = '2010-06-30'\n",
    "year3['ffyear'] = 2010"
   ]
  },
  {
   "cell_type": "code",
   "execution_count": null,
   "metadata": {},
   "outputs": [],
   "source": [
    "#2011"
   ]
  },
  {
   "cell_type": "code",
   "execution_count": null,
   "metadata": {},
   "outputs": [],
   "source": [
    "current_year = 2011\n",
    "current_quarter = 4 \n",
    "start_year = 2011\n",
    "\n",
    "\n",
    "years = list(range(start_year, current_year))\n",
    "quarters = ['QTR1', 'QTR2', 'QTR3', 'QTR4']\n",
    "history = [(y, q) for y in years for q in quarters]\n",
    "#Look to look into the time frame wanted\n",
    "for i in range(1, current_quarter + 1):\n",
    "    history.append((current_year, 'QTR%d' % i))\n",
    "urls = ['https://www.sec.gov/Archives/edgar/full-index/%d/%s/crawler.idx' % (x[0], x[1]) for x in history]\n",
    "urls.sort()\n",
    "\n",
    "#Pass via sqlite3 as is more efficient\n",
    "con = sqlite3.connect('edgar_htm_idx.db')\n",
    "cur = con.cursor()\n",
    "cur.execute('DROP TABLE IF EXISTS idx')\n",
    "cur.execute('CREATE TABLE idx (conm TEXT, type TEXT, cik TEXT, date TEXT, path TEXT)')\n",
    " \n",
    "for url in urls:\n",
    "    lines = requests.get(url).text.splitlines()\n",
    "    cikloc = lines[7].find('CIK')\n",
    "    nameloc = lines[7].find('Company Name')\n",
    "    typeloc = lines[7].find('Form Type')\n",
    "    dateloc = lines[7].find('Date Filed')\n",
    "    urlloc = lines[7].find('URL')\n",
    "    records = [tuple([line[:typeloc].strip(), line[typeloc:cikloc].strip(), line[cikloc:dateloc].strip(),\n",
    "                      line[dateloc:urlloc].strip(), line[urlloc:].strip()]) for line in lines[9:]]\n",
    "    cur.executemany('INSERT INTO idx VALUES (?, ?, ?, ?, ?)', records)\n",
    "    print(url, 'downloaded and wrote to SQLite')\n",
    " \n",
    "con.commit()\n",
    "con.close()\n",
    "\n",
    "engine2 = create_engine('sqlite:///edgar_htm_idx.db')\n",
    "with engine2.connect() as conn, conn.begin():\n",
    "    data30 = pd.read_sql_table('idx', conn)\n",
    "    \n",
    "dataourcomp1 = data30[data30['conm'].isin(ourcompanies)]\n",
    "dataourcomp1 = dataourcomp1[dataourcomp1['type'].isin(files)]\n",
    "\n",
    "#rearange\n",
    "dataourcomp1 = dataourcomp1[['cik','conm','type','date','path']]\n",
    "\n",
    "#save in csv\n",
    "dataourcomp1.to_csv('edgar_htm_idx.csv')\n",
    "\n",
    "#open the html \n",
    "with open('log09.csv', 'w', newline='') as log:\n",
    "    logwriter = csv.writer(log)\n",
    " \n",
    "    with open('edgar_htm_idx.csv', newline='') as infile:\n",
    "        records = csv.reader(infile)\n",
    " \n",
    "        for r in records:\n",
    "            log_row = r.copy()\n",
    "            print('Start fetching URL to', r[2], r[3], 'filed on', r[4], '...')\n",
    "            start_time = time.strftime('%Y-%m-%d %H:%M:%S', time.localtime())\n",
    " \n",
    "            driver = webdriver.Chrome('./chromedriver')\n",
    " \n",
    "            try:\n",
    "                driver.get(r[5])\n",
    "                #time.sleep(3 + random.random() * 3)\n",
    "                filing_date = driver.find_element_by_xpath('//*[@id=\"formDiv\"]/div[2]/div[1]/div[2]').text\n",
    "                period_of_report = driver.find_element_by_xpath('//*[@id=\"formDiv\"]/div[2]/div[2]/div[2]').text\n",
    "                form_text = driver.find_element_by_xpath('//*[@id=\"formDiv\"]/div/table/tbody/tr[2]/td[3]/a').text\n",
    "                form_link = driver.find_element_by_link_text(form_text).get_attribute('href')\n",
    "                end_time = time.strftime('%Y-%m-%d %H:%M:%S', time.localtime())\n",
    "                print('Success!', start_time, ' --> ', end_time, '\\n')\n",
    "                log_row = log_row + [start_time, end_time, filing_date, period_of_report, form_link]\n",
    " \n",
    "            except:\n",
    "                end_time = time.strftime('%Y-%m-%d %H:%M:%S', time.localtime())\n",
    "                print('Error!', start_time, ' --> ', end_time, '\\n')\n",
    "                log_row = log_row + [start_time, end_time, 'ERROR!']\n",
    " \n",
    "            driver.quit()\n",
    " \n",
    "            logwriter.writerow(log_row)\n",
    "#read csv\n",
    "FinalDataAnalysis1 = pd.read_csv('log09.csv')\n",
    "\n",
    "#Paths \n",
    "FFdata1 = FinalDataAnalysis1.iloc[:,8]\n",
    "\n",
    "# Actually obtain the text from requests via EDGAR, parsing using BS4 then text\n",
    "texts1 = [url_to_text(url) for url in FFdata1]\n",
    "\n",
    "# access index and value for a list\n",
    "for idx, val in enumerate(ourcompanies):\n",
    "    with open(val + \".pkl\", \"wb\") as f:\n",
    "        pickle.dump(texts1[idx], f)\n",
    "        \n",
    "# Load pickled files into a dictionary\n",
    "# Key: company name\n",
    "# value: parsed 10K text\n",
    "datacleaned1 = {}\n",
    "\n",
    "for _, val in enumerate(ourcompanies):\n",
    "    with open(val + \".pkl\", \"rb\") as f:\n",
    "        datacleaned1[val] = pickle.load(f)\n",
    "\n",
    "#Load dictionary\n",
    "df001 = pd.DataFrame.from_dict(datacleaned1, orient='index', columns = ['text'])\n",
    "\n",
    "# deal with reserved special html characters such as non-breaking space (`&nbsp`)\n",
    "html_chars = {'&lt': 'lt', '&#60': 'lt', \n",
    "              '&gt': 'gt', '&#62': 'gt',\n",
    "              '&nbsp': '', '&#160': '', \n",
    "              '&quot': '\"', '&#34': '\"', \n",
    "              '&apos': '\\'', '&#39': '\\'',\n",
    "              '&amp': '&', '&#38': '&'}\n",
    "df1 = pd.DataFrame(df001['text'].apply(clean_text_round2))\n",
    "\n",
    "#counts the constraining words \n",
    "df1['constraining_score'] = df1.iloc[:,0].apply(constraining_score)\n",
    "df1['word_count'] = df1.iloc[:,0].apply(total_word_count)\n",
    "df1['constraining_word_proportion'] = np.vectorize(constraining_word_prop)(df1['constraining_score'],df1['word_count'])\n",
    "\n",
    "#create our final table for the year\n",
    "year4 =df1.drop('text', axis=1)\n",
    "year4= year4.drop('constraining_score', axis=1)\n",
    "year4= year4.drop('word_count', axis=1)\n",
    "year4.index.name ='Company Name'\n",
    "year4 = year4.rename(index=str, columns ={'constraining_word_proportion':'%cons'})\n",
    "year4['permno'] =PERMNO\n",
    "year4['date'] = '2011-06-30'\n",
    "year4['ffyear'] = 2011"
   ]
  },
  {
   "cell_type": "code",
   "execution_count": null,
   "metadata": {},
   "outputs": [],
   "source": [
    "#2012"
   ]
  },
  {
   "cell_type": "code",
   "execution_count": null,
   "metadata": {},
   "outputs": [],
   "source": [
    "current_year = 2012\n",
    "current_quarter = 4 \n",
    "start_year = 2012\n",
    "\n",
    "\n",
    "years = list(range(start_year, current_year))\n",
    "quarters = ['QTR1', 'QTR2', 'QTR3', 'QTR4']\n",
    "history = [(y, q) for y in years for q in quarters]\n",
    "#Look to look into the time frame wanted\n",
    "for i in range(1, current_quarter + 1):\n",
    "    history.append((current_year, 'QTR%d' % i))\n",
    "urls = ['https://www.sec.gov/Archives/edgar/full-index/%d/%s/crawler.idx' % (x[0], x[1]) for x in history]\n",
    "urls.sort()\n",
    "\n",
    "#Pass via sqlite3 as is more efficient\n",
    "con = sqlite3.connect('edgar_htm_idx.db')\n",
    "cur = con.cursor()\n",
    "cur.execute('DROP TABLE IF EXISTS idx')\n",
    "cur.execute('CREATE TABLE idx (conm TEXT, type TEXT, cik TEXT, date TEXT, path TEXT)')\n",
    " \n",
    "for url in urls:\n",
    "    lines = requests.get(url).text.splitlines()\n",
    "    cikloc = lines[7].find('CIK')\n",
    "    nameloc = lines[7].find('Company Name')\n",
    "    typeloc = lines[7].find('Form Type')\n",
    "    dateloc = lines[7].find('Date Filed')\n",
    "    urlloc = lines[7].find('URL')\n",
    "    records = [tuple([line[:typeloc].strip(), line[typeloc:cikloc].strip(), line[cikloc:dateloc].strip(),\n",
    "                      line[dateloc:urlloc].strip(), line[urlloc:].strip()]) for line in lines[9:]]\n",
    "    cur.executemany('INSERT INTO idx VALUES (?, ?, ?, ?, ?)', records)\n",
    "    print(url, 'downloaded and wrote to SQLite')\n",
    " \n",
    "con.commit()\n",
    "con.close()\n",
    "\n",
    "engine2 = create_engine('sqlite:///edgar_htm_idx.db')\n",
    "with engine2.connect() as conn, conn.begin():\n",
    "    data30 = pd.read_sql_table('idx', conn)\n",
    "    \n",
    "dataourcomp1 = data30[data30['conm'].isin(ourcompanies)]\n",
    "dataourcomp1 = dataourcomp1[dataourcomp1['type'].isin(files)]\n",
    "\n",
    "#rearange\n",
    "dataourcomp1 = dataourcomp1[['cik','conm','type','date','path']]\n",
    "\n",
    "#save in csv\n",
    "dataourcomp1.to_csv('edgar_htm_idx.csv')\n",
    "\n",
    "#open the html \n",
    "with open('log09.csv', 'w', newline='') as log:\n",
    "    logwriter = csv.writer(log)\n",
    " \n",
    "    with open('edgar_htm_idx.csv', newline='') as infile:\n",
    "        records = csv.reader(infile)\n",
    " \n",
    "        for r in records:\n",
    "            log_row = r.copy()\n",
    "            print('Start fetching URL to', r[2], r[3], 'filed on', r[4], '...')\n",
    "            start_time = time.strftime('%Y-%m-%d %H:%M:%S', time.localtime())\n",
    " \n",
    "            driver = webdriver.Chrome('./chromedriver')\n",
    " \n",
    "            try:\n",
    "                driver.get(r[5])\n",
    "                #time.sleep(3 + random.random() * 3)\n",
    "                filing_date = driver.find_element_by_xpath('//*[@id=\"formDiv\"]/div[2]/div[1]/div[2]').text\n",
    "                period_of_report = driver.find_element_by_xpath('//*[@id=\"formDiv\"]/div[2]/div[2]/div[2]').text\n",
    "                form_text = driver.find_element_by_xpath('//*[@id=\"formDiv\"]/div/table/tbody/tr[2]/td[3]/a').text\n",
    "                form_link = driver.find_element_by_link_text(form_text).get_attribute('href')\n",
    "                end_time = time.strftime('%Y-%m-%d %H:%M:%S', time.localtime())\n",
    "                print('Success!', start_time, ' --> ', end_time, '\\n')\n",
    "                log_row = log_row + [start_time, end_time, filing_date, period_of_report, form_link]\n",
    " \n",
    "            except:\n",
    "                end_time = time.strftime('%Y-%m-%d %H:%M:%S', time.localtime())\n",
    "                print('Error!', start_time, ' --> ', end_time, '\\n')\n",
    "                log_row = log_row + [start_time, end_time, 'ERROR!']\n",
    " \n",
    "            driver.quit()\n",
    " \n",
    "            logwriter.writerow(log_row)\n",
    "#read csv\n",
    "FinalDataAnalysis1 = pd.read_csv('log09.csv')\n",
    "\n",
    "#Paths \n",
    "FFdata1 = FinalDataAnalysis1.iloc[:,8]\n",
    "\n",
    "# Actually obtain the text from requests via EDGAR, parsing using BS4 then text\n",
    "texts1 = [url_to_text(url) for url in FFdata1]\n",
    "\n",
    "# access index and value for a list\n",
    "for idx, val in enumerate(ourcompanies):\n",
    "    with open(val + \".pkl\", \"wb\") as f:\n",
    "        pickle.dump(texts1[idx], f)\n",
    "        \n",
    "# Load pickled files into a dictionary\n",
    "# Key: company name\n",
    "# value: parsed 10K text\n",
    "datacleaned1 = {}\n",
    "\n",
    "for _, val in enumerate(ourcompanies):\n",
    "    with open(val + \".pkl\", \"rb\") as f:\n",
    "        datacleaned1[val] = pickle.load(f)\n",
    "\n",
    "#Load dictionary\n",
    "df001 = pd.DataFrame.from_dict(datacleaned1, orient='index', columns = ['text'])\n",
    "\n",
    "# deal with reserved special html characters such as non-breaking space (`&nbsp`)\n",
    "html_chars = {'&lt': 'lt', '&#60': 'lt', \n",
    "              '&gt': 'gt', '&#62': 'gt',\n",
    "              '&nbsp': '', '&#160': '', \n",
    "              '&quot': '\"', '&#34': '\"', \n",
    "              '&apos': '\\'', '&#39': '\\'',\n",
    "              '&amp': '&', '&#38': '&'}\n",
    "df1 = pd.DataFrame(df001['text'].apply(clean_text_round2))\n",
    "\n",
    "#counts the constraining words \n",
    "df1['constraining_score'] = df1.iloc[:,0].apply(constraining_score)\n",
    "df1['word_count'] = df1.iloc[:,0].apply(total_word_count)\n",
    "df1['constraining_word_proportion'] = np.vectorize(constraining_word_prop)(df1['constraining_score'],df1['word_count'])\n",
    "\n",
    "#create our final table for the year\n",
    "year5 =df1.drop('text', axis=1)\n",
    "year5= year5.drop('constraining_score', axis=1)\n",
    "year5= year5.drop('word_count', axis=1)\n",
    "year5.index.name ='Company Name'\n",
    "year5 = year5.rename(index=str, columns ={'constraining_word_proportion':'%cons'})\n",
    "year5['permno'] =['22592','81540','14593','83469','83443','77605','29938','20750','77369','31500','86356','82642','11850','12060','77274','39571','52695','23819','87394','59328','89960','50876','80054','10107','89781','25590','80539','57665','63706','86580','35107','13856','62359','11043','50017','46922','64805','63765','75607','86810','90979','92655','65875','76201']\n",
    "year5['date'] = '2012-06-30'\n",
    "year5['ffyear'] = 2012"
   ]
  },
  {
   "cell_type": "code",
   "execution_count": null,
   "metadata": {},
   "outputs": [],
   "source": [
    "#2013"
   ]
  },
  {
   "cell_type": "code",
   "execution_count": null,
   "metadata": {},
   "outputs": [],
   "source": [
    "current_year = 2013\n",
    "current_quarter = 4 \n",
    "start_year = 2013\n",
    "\n",
    "\n",
    "years = list(range(start_year, current_year))\n",
    "quarters = ['QTR1', 'QTR2', 'QTR3', 'QTR4']\n",
    "history = [(y, q) for y in years for q in quarters]\n",
    "#Look to look into the time frame wanted\n",
    "for i in range(1, current_quarter + 1):\n",
    "    history.append((current_year, 'QTR%d' % i))\n",
    "urls = ['https://www.sec.gov/Archives/edgar/full-index/%d/%s/crawler.idx' % (x[0], x[1]) for x in history]\n",
    "urls.sort()\n",
    "\n",
    "#Pass via sqlite3 as is more efficient\n",
    "con = sqlite3.connect('edgar_htm_idx.db')\n",
    "cur = con.cursor()\n",
    "cur.execute('DROP TABLE IF EXISTS idx')\n",
    "cur.execute('CREATE TABLE idx (conm TEXT, type TEXT, cik TEXT, date TEXT, path TEXT)')\n",
    " \n",
    "for url in urls:\n",
    "    lines = requests.get(url).text.splitlines()\n",
    "    cikloc = lines[7].find('CIK')\n",
    "    nameloc = lines[7].find('Company Name')\n",
    "    typeloc = lines[7].find('Form Type')\n",
    "    dateloc = lines[7].find('Date Filed')\n",
    "    urlloc = lines[7].find('URL')\n",
    "    records = [tuple([line[:typeloc].strip(), line[typeloc:cikloc].strip(), line[cikloc:dateloc].strip(),\n",
    "                      line[dateloc:urlloc].strip(), line[urlloc:].strip()]) for line in lines[9:]]\n",
    "    cur.executemany('INSERT INTO idx VALUES (?, ?, ?, ?, ?)', records)\n",
    "    print(url, 'downloaded and wrote to SQLite')\n",
    " \n",
    "con.commit()\n",
    "con.close()\n",
    "\n",
    "engine2 = create_engine('sqlite:///edgar_htm_idx.db')\n",
    "with engine2.connect() as conn, conn.begin():\n",
    "    data30 = pd.read_sql_table('idx', conn)\n",
    "    \n",
    "dataourcomp1 = data30[data30['conm'].isin(ourcompanies)]\n",
    "dataourcomp1 = dataourcomp1[dataourcomp1['type'].isin(files)]\n",
    "\n",
    "#rearange\n",
    "dataourcomp1 = dataourcomp1[['cik','conm','type','date','path']]\n",
    "\n",
    "#save in csv\n",
    "dataourcomp1.to_csv('edgar_htm_idx.csv')\n",
    "\n",
    "#open the html \n",
    "with open('log09.csv', 'w', newline='') as log:\n",
    "    logwriter = csv.writer(log)\n",
    " \n",
    "    with open('edgar_htm_idx.csv', newline='') as infile:\n",
    "        records = csv.reader(infile)\n",
    " \n",
    "        for r in records:\n",
    "            log_row = r.copy()\n",
    "            print('Start fetching URL to', r[2], r[3], 'filed on', r[4], '...')\n",
    "            start_time = time.strftime('%Y-%m-%d %H:%M:%S', time.localtime())\n",
    " \n",
    "            driver = webdriver.Chrome('./chromedriver')\n",
    " \n",
    "            try:\n",
    "                driver.get(r[5])\n",
    "                #time.sleep(3 + random.random() * 3)\n",
    "                filing_date = driver.find_element_by_xpath('//*[@id=\"formDiv\"]/div[2]/div[1]/div[2]').text\n",
    "                period_of_report = driver.find_element_by_xpath('//*[@id=\"formDiv\"]/div[2]/div[2]/div[2]').text\n",
    "                form_text = driver.find_element_by_xpath('//*[@id=\"formDiv\"]/div/table/tbody/tr[2]/td[3]/a').text\n",
    "                form_link = driver.find_element_by_link_text(form_text).get_attribute('href')\n",
    "                end_time = time.strftime('%Y-%m-%d %H:%M:%S', time.localtime())\n",
    "                print('Success!', start_time, ' --> ', end_time, '\\n')\n",
    "                log_row = log_row + [start_time, end_time, filing_date, period_of_report, form_link]\n",
    " \n",
    "            except:\n",
    "                end_time = time.strftime('%Y-%m-%d %H:%M:%S', time.localtime())\n",
    "                print('Error!', start_time, ' --> ', end_time, '\\n')\n",
    "                log_row = log_row + [start_time, end_time, 'ERROR!']\n",
    " \n",
    "            driver.quit()\n",
    " \n",
    "            logwriter.writerow(log_row)\n",
    "#read csv\n",
    "FinalDataAnalysis1 = pd.read_csv('log09.csv')\n",
    "\n",
    "#Paths \n",
    "FFdata1 = FinalDataAnalysis1.iloc[:,8]\n",
    "\n",
    "# Actually obtain the text from requests via EDGAR, parsing using BS4 then text\n",
    "texts1 = [url_to_text(url) for url in FFdata1]\n",
    "\n",
    "# access index and value for a list\n",
    "for idx, val in enumerate(ourcompanies):\n",
    "    with open(val + \".pkl\", \"wb\") as f:\n",
    "        pickle.dump(texts1[idx], f)\n",
    "        \n",
    "# Load pickled files into a dictionary\n",
    "# Key: company name\n",
    "# value: parsed 10K text\n",
    "datacleaned1 = {}\n",
    "\n",
    "for _, val in enumerate(ourcompanies):\n",
    "    with open(val + \".pkl\", \"rb\") as f:\n",
    "        datacleaned1[val] = pickle.load(f)\n",
    "\n",
    "#Load dictionary\n",
    "df001 = pd.DataFrame.from_dict(datacleaned1, orient='index', columns = ['text'])\n",
    "\n",
    "# deal with reserved special html characters such as non-breaking space (`&nbsp`)\n",
    "html_chars = {'&lt': 'lt', '&#60': 'lt', \n",
    "              '&gt': 'gt', '&#62': 'gt',\n",
    "              '&nbsp': '', '&#160': '', \n",
    "              '&quot': '\"', '&#34': '\"', \n",
    "              '&apos': '\\'', '&#39': '\\'',\n",
    "              '&amp': '&', '&#38': '&'}\n",
    "df1 = pd.DataFrame(df001['text'].apply(clean_text_round2))\n",
    "\n",
    "#counts the constraining words \n",
    "df1['constraining_score'] = df1.iloc[:,0].apply(constraining_score)\n",
    "df1['word_count'] = df1.iloc[:,0].apply(total_word_count)\n",
    "df1['constraining_word_proportion'] = np.vectorize(constraining_word_prop)(df1['constraining_score'],df1['word_count'])\n",
    "\n",
    "#create our final table for the year\n",
    "year6 =df1.drop('text', axis=1)\n",
    "year6= year6.drop('constraining_score', axis=1)\n",
    "year6= year6.drop('word_count', axis=1)\n",
    "year6.index.name ='Company Name'\n",
    "year6 = year6.rename(index=str, columns ={'constraining_word_proportion':'%cons'})\n",
    "year6['permno'] = PERMNO\n",
    "year6['date'] = '2013-06-30'\n",
    "year6['ffyear'] = 2013"
   ]
  },
  {
   "cell_type": "code",
   "execution_count": null,
   "metadata": {},
   "outputs": [],
   "source": [
    "#2014"
   ]
  },
  {
   "cell_type": "code",
   "execution_count": null,
   "metadata": {},
   "outputs": [],
   "source": [
    "current_year = 2014\n",
    "current_quarter = 4 \n",
    "start_year = 2014\n",
    "\n",
    "\n",
    "years = list(range(start_year, current_year))\n",
    "quarters = ['QTR1', 'QTR2', 'QTR3', 'QTR4']\n",
    "history = [(y, q) for y in years for q in quarters]\n",
    "#Look to look into the time frame wanted\n",
    "for i in range(1, current_quarter + 1):\n",
    "    history.append((current_year, 'QTR%d' % i))\n",
    "urls = ['https://www.sec.gov/Archives/edgar/full-index/%d/%s/crawler.idx' % (x[0], x[1]) for x in history]\n",
    "urls.sort()\n",
    "\n",
    "#Pass via sqlite3 as is more efficient\n",
    "con = sqlite3.connect('edgar_htm_idx.db')\n",
    "cur = con.cursor()\n",
    "cur.execute('DROP TABLE IF EXISTS idx')\n",
    "cur.execute('CREATE TABLE idx (conm TEXT, type TEXT, cik TEXT, date TEXT, path TEXT)')\n",
    " \n",
    "for url in urls:\n",
    "    lines = requests.get(url).text.splitlines()\n",
    "    cikloc = lines[7].find('CIK')\n",
    "    nameloc = lines[7].find('Company Name')\n",
    "    typeloc = lines[7].find('Form Type')\n",
    "    dateloc = lines[7].find('Date Filed')\n",
    "    urlloc = lines[7].find('URL')\n",
    "    records = [tuple([line[:typeloc].strip(), line[typeloc:cikloc].strip(), line[cikloc:dateloc].strip(),\n",
    "                      line[dateloc:urlloc].strip(), line[urlloc:].strip()]) for line in lines[9:]]\n",
    "    cur.executemany('INSERT INTO idx VALUES (?, ?, ?, ?, ?)', records)\n",
    "    print(url, 'downloaded and wrote to SQLite')\n",
    " \n",
    "con.commit()\n",
    "con.close()\n",
    "\n",
    "engine2 = create_engine('sqlite:///edgar_htm_idx.db')\n",
    "with engine2.connect() as conn, conn.begin():\n",
    "    data30 = pd.read_sql_table('idx', conn)\n",
    "    \n",
    "dataourcomp1 = data30[data30['conm'].isin(ourcompanies)]\n",
    "dataourcomp1 = dataourcomp1[dataourcomp1['type'].isin(files)]\n",
    "\n",
    "#rearange\n",
    "dataourcomp1 = dataourcomp1[['cik','conm','type','date','path']]\n",
    "\n",
    "#save in csv\n",
    "dataourcomp1.to_csv('edgar_htm_idx.csv')\n",
    "\n",
    "#open the html \n",
    "with open('log09.csv', 'w', newline='') as log:\n",
    "    logwriter = csv.writer(log)\n",
    " \n",
    "    with open('edgar_htm_idx.csv', newline='') as infile:\n",
    "        records = csv.reader(infile)\n",
    " \n",
    "        for r in records:\n",
    "            log_row = r.copy()\n",
    "            print('Start fetching URL to', r[2], r[3], 'filed on', r[4], '...')\n",
    "            start_time = time.strftime('%Y-%m-%d %H:%M:%S', time.localtime())\n",
    " \n",
    "            driver = webdriver.Chrome('./chromedriver')\n",
    " \n",
    "            try:\n",
    "                driver.get(r[5])\n",
    "                #time.sleep(3 + random.random() * 3)\n",
    "                filing_date = driver.find_element_by_xpath('//*[@id=\"formDiv\"]/div[2]/div[1]/div[2]').text\n",
    "                period_of_report = driver.find_element_by_xpath('//*[@id=\"formDiv\"]/div[2]/div[2]/div[2]').text\n",
    "                form_text = driver.find_element_by_xpath('//*[@id=\"formDiv\"]/div/table/tbody/tr[2]/td[3]/a').text\n",
    "                form_link = driver.find_element_by_link_text(form_text).get_attribute('href')\n",
    "                end_time = time.strftime('%Y-%m-%d %H:%M:%S', time.localtime())\n",
    "                print('Success!', start_time, ' --> ', end_time, '\\n')\n",
    "                log_row = log_row + [start_time, end_time, filing_date, period_of_report, form_link]\n",
    " \n",
    "            except:\n",
    "                end_time = time.strftime('%Y-%m-%d %H:%M:%S', time.localtime())\n",
    "                print('Error!', start_time, ' --> ', end_time, '\\n')\n",
    "                log_row = log_row + [start_time, end_time, 'ERROR!']\n",
    " \n",
    "            driver.quit()\n",
    " \n",
    "            logwriter.writerow(log_row)\n",
    "#read csv\n",
    "FinalDataAnalysis1 = pd.read_csv('log09.csv')\n",
    "\n",
    "#Paths \n",
    "FFdata1 = FinalDataAnalysis1.iloc[:,8]\n",
    "\n",
    "# Actually obtain the text from requests via EDGAR, parsing using BS4 then text\n",
    "texts1 = [url_to_text(url) for url in FFdata1]\n",
    "\n",
    "# access index and value for a list\n",
    "for idx, val in enumerate(ourcompanies):\n",
    "    with open(val + \".pkl\", \"wb\") as f:\n",
    "        pickle.dump(texts1[idx], f)\n",
    "        \n",
    "# Load pickled files into a dictionary\n",
    "# Key: company name\n",
    "# value: parsed 10K text\n",
    "datacleaned1 = {}\n",
    "\n",
    "for _, val in enumerate(ourcompanies):\n",
    "    with open(val + \".pkl\", \"rb\") as f:\n",
    "        datacleaned1[val] = pickle.load(f)\n",
    "\n",
    "#Load dictionary\n",
    "df001 = pd.DataFrame.from_dict(datacleaned1, orient='index', columns = ['text'])\n",
    "\n",
    "# deal with reserved special html characters such as non-breaking space (`&nbsp`)\n",
    "html_chars = {'&lt': 'lt', '&#60': 'lt', \n",
    "              '&gt': 'gt', '&#62': 'gt',\n",
    "              '&nbsp': '', '&#160': '', \n",
    "              '&quot': '\"', '&#34': '\"', \n",
    "              '&apos': '\\'', '&#39': '\\'',\n",
    "              '&amp': '&', '&#38': '&'}\n",
    "df1 = pd.DataFrame(df001['text'].apply(clean_text_round2))\n",
    "\n",
    "#counts the constraining words \n",
    "df1['constraining_score'] = df1.iloc[:,0].apply(constraining_score)\n",
    "df1['word_count'] = df1.iloc[:,0].apply(total_word_count)\n",
    "df1['constraining_word_proportion'] = np.vectorize(constraining_word_prop)(df1['constraining_score'],df1['word_count'])\n",
    "\n",
    "#create our final table for the year\n",
    "year7 =df1.drop('text', axis=1)\n",
    "year7= year7.drop('constraining_score', axis=1)\n",
    "year7= year7.drop('word_count', axis=1)\n",
    "year7.index.name ='Company Name'\n",
    "year7 = year7.rename(index=str, columns ={'constraining_word_proportion':'%cons'})\n",
    "year7['permno'] = PERMNO\n",
    "year7['date'] = '2014-06-30'\n",
    "year7['ffyear'] = 2014"
   ]
  },
  {
   "cell_type": "code",
   "execution_count": null,
   "metadata": {},
   "outputs": [],
   "source": [
    "#2015"
   ]
  },
  {
   "cell_type": "code",
   "execution_count": null,
   "metadata": {},
   "outputs": [],
   "source": [
    "current_year = 2015\n",
    "current_quarter = 4 \n",
    "start_year = 2015\n",
    "\n",
    "\n",
    "years = list(range(start_year, current_year))\n",
    "quarters = ['QTR1', 'QTR2', 'QTR3', 'QTR4']\n",
    "history = [(y, q) for y in years for q in quarters]\n",
    "#Look to look into the time frame wanted\n",
    "for i in range(1, current_quarter + 1):\n",
    "    history.append((current_year, 'QTR%d' % i))\n",
    "urls = ['https://www.sec.gov/Archives/edgar/full-index/%d/%s/crawler.idx' % (x[0], x[1]) for x in history]\n",
    "urls.sort()\n",
    "\n",
    "#Pass via sqlite3 as is more efficient\n",
    "con = sqlite3.connect('edgar_htm_idx.db')\n",
    "cur = con.cursor()\n",
    "cur.execute('DROP TABLE IF EXISTS idx')\n",
    "cur.execute('CREATE TABLE idx (conm TEXT, type TEXT, cik TEXT, date TEXT, path TEXT)')\n",
    " \n",
    "for url in urls:\n",
    "    lines = requests.get(url).text.splitlines()\n",
    "    cikloc = lines[7].find('CIK')\n",
    "    nameloc = lines[7].find('Company Name')\n",
    "    typeloc = lines[7].find('Form Type')\n",
    "    dateloc = lines[7].find('Date Filed')\n",
    "    urlloc = lines[7].find('URL')\n",
    "    records = [tuple([line[:typeloc].strip(), line[typeloc:cikloc].strip(), line[cikloc:dateloc].strip(),\n",
    "                      line[dateloc:urlloc].strip(), line[urlloc:].strip()]) for line in lines[9:]]\n",
    "    cur.executemany('INSERT INTO idx VALUES (?, ?, ?, ?, ?)', records)\n",
    "    print(url, 'downloaded and wrote to SQLite')\n",
    " \n",
    "con.commit()\n",
    "con.close()\n",
    "\n",
    "engine2 = create_engine('sqlite:///edgar_htm_idx.db')\n",
    "with engine2.connect() as conn, conn.begin():\n",
    "    data30 = pd.read_sql_table('idx', conn)\n",
    "    \n",
    "dataourcomp1 = data30[data30['conm'].isin(ourcompanies)]\n",
    "dataourcomp1 = dataourcomp1[dataourcomp1['type'].isin(files)]\n",
    "\n",
    "#rearange\n",
    "dataourcomp1 = dataourcomp1[['cik','conm','type','date','path']]\n",
    "\n",
    "#save in csv\n",
    "dataourcomp1.to_csv('edgar_htm_idx.csv')\n",
    "\n",
    "#open the html \n",
    "with open('log09.csv', 'w', newline='') as log:\n",
    "    logwriter = csv.writer(log)\n",
    " \n",
    "    with open('edgar_htm_idx.csv', newline='') as infile:\n",
    "        records = csv.reader(infile)\n",
    " \n",
    "        for r in records:\n",
    "            log_row = r.copy()\n",
    "            print('Start fetching URL to', r[2], r[3], 'filed on', r[4], '...')\n",
    "            start_time = time.strftime('%Y-%m-%d %H:%M:%S', time.localtime())\n",
    " \n",
    "            driver = webdriver.Chrome('./chromedriver')\n",
    " \n",
    "            try:\n",
    "                driver.get(r[5])\n",
    "                #time.sleep(3 + random.random() * 3)\n",
    "                filing_date = driver.find_element_by_xpath('//*[@id=\"formDiv\"]/div[2]/div[1]/div[2]').text\n",
    "                period_of_report = driver.find_element_by_xpath('//*[@id=\"formDiv\"]/div[2]/div[2]/div[2]').text\n",
    "                form_text = driver.find_element_by_xpath('//*[@id=\"formDiv\"]/div/table/tbody/tr[2]/td[3]/a').text\n",
    "                form_link = driver.find_element_by_link_text(form_text).get_attribute('href')\n",
    "                end_time = time.strftime('%Y-%m-%d %H:%M:%S', time.localtime())\n",
    "                print('Success!', start_time, ' --> ', end_time, '\\n')\n",
    "                log_row = log_row + [start_time, end_time, filing_date, period_of_report, form_link]\n",
    " \n",
    "            except:\n",
    "                end_time = time.strftime('%Y-%m-%d %H:%M:%S', time.localtime())\n",
    "                print('Error!', start_time, ' --> ', end_time, '\\n')\n",
    "                log_row = log_row + [start_time, end_time, 'ERROR!']\n",
    " \n",
    "            driver.quit()\n",
    " \n",
    "            logwriter.writerow(log_row)\n",
    "#read csv\n",
    "FinalDataAnalysis1 = pd.read_csv('log09.csv')\n",
    "\n",
    "#Paths \n",
    "FFdata1 = FinalDataAnalysis1.iloc[:,8]\n",
    "\n",
    "# Actually obtain the text from requests via EDGAR, parsing using BS4 then text\n",
    "texts1 = [url_to_text(url) for url in FFdata1]\n",
    "\n",
    "# access index and value for a list\n",
    "for idx, val in enumerate(ourcompanies):\n",
    "    with open(val + \".pkl\", \"wb\") as f:\n",
    "        pickle.dump(texts1[idx], f)\n",
    "        \n",
    "# Load pickled files into a dictionary\n",
    "# Key: company name\n",
    "# value: parsed 10K text\n",
    "datacleaned1 = {}\n",
    "\n",
    "for _, val in enumerate(ourcompanies):\n",
    "    with open(val + \".pkl\", \"rb\") as f:\n",
    "        datacleaned1[val] = pickle.load(f)\n",
    "\n",
    "#Load dictionary\n",
    "df001 = pd.DataFrame.from_dict(datacleaned1, orient='index', columns = ['text'])\n",
    "\n",
    "# deal with reserved special html characters such as non-breaking space (`&nbsp`)\n",
    "html_chars = {'&lt': 'lt', '&#60': 'lt', \n",
    "              '&gt': 'gt', '&#62': 'gt',\n",
    "              '&nbsp': '', '&#160': '', \n",
    "              '&quot': '\"', '&#34': '\"', \n",
    "              '&apos': '\\'', '&#39': '\\'',\n",
    "              '&amp': '&', '&#38': '&'}\n",
    "df1 = pd.DataFrame(df001['text'].apply(clean_text_round2))\n",
    "\n",
    "#counts the constraining words \n",
    "df1['constraining_score'] = df1.iloc[:,0].apply(constraining_score)\n",
    "df1['word_count'] = df1.iloc[:,0].apply(total_word_count)\n",
    "df1['constraining_word_proportion'] = np.vectorize(constraining_word_prop)(df1['constraining_score'],df1['word_count'])\n",
    "\n",
    "#create our final table for the year\n",
    "year8 =df1.drop('text', axis=1)\n",
    "year8= year8.drop('constraining_score', axis=1)\n",
    "year8= year8.drop('word_count', axis=1)\n",
    "year8.index.name ='Company Name'\n",
    "year8 = year8.rename(index=str, columns ={'constraining_word_proportion':'%cons'})\n",
    "year8['permno'] = PERMNO\n",
    "year8['date'] = '2015-06-30'\n",
    "year8['ffyear'] = 2015"
   ]
  },
  {
   "cell_type": "code",
   "execution_count": null,
   "metadata": {},
   "outputs": [],
   "source": [
    "#2016"
   ]
  },
  {
   "cell_type": "code",
   "execution_count": null,
   "metadata": {},
   "outputs": [],
   "source": [
    "current_year = 2016\n",
    "current_quarter = 4 \n",
    "start_year = 2016\n",
    "\n",
    "\n",
    "years = list(range(start_year, current_year))\n",
    "quarters = ['QTR1', 'QTR2', 'QTR3', 'QTR4']\n",
    "history = [(y, q) for y in years for q in quarters]\n",
    "#Look to look into the time frame wanted\n",
    "for i in range(1, current_quarter + 1):\n",
    "    history.append((current_year, 'QTR%d' % i))\n",
    "urls = ['https://www.sec.gov/Archives/edgar/full-index/%d/%s/crawler.idx' % (x[0], x[1]) for x in history]\n",
    "urls.sort()\n",
    "\n",
    "#Pass via sqlite3 as is more efficient\n",
    "con = sqlite3.connect('edgar_htm_idx.db')\n",
    "cur = con.cursor()\n",
    "cur.execute('DROP TABLE IF EXISTS idx')\n",
    "cur.execute('CREATE TABLE idx (conm TEXT, type TEXT, cik TEXT, date TEXT, path TEXT)')\n",
    " \n",
    "for url in urls:\n",
    "    lines = requests.get(url).text.splitlines()\n",
    "    cikloc = lines[7].find('CIK')\n",
    "    nameloc = lines[7].find('Company Name')\n",
    "    typeloc = lines[7].find('Form Type')\n",
    "    dateloc = lines[7].find('Date Filed')\n",
    "    urlloc = lines[7].find('URL')\n",
    "    records = [tuple([line[:typeloc].strip(), line[typeloc:cikloc].strip(), line[cikloc:dateloc].strip(),\n",
    "                      line[dateloc:urlloc].strip(), line[urlloc:].strip()]) for line in lines[9:]]\n",
    "    cur.executemany('INSERT INTO idx VALUES (?, ?, ?, ?, ?)', records)\n",
    "    print(url, 'downloaded and wrote to SQLite')\n",
    " \n",
    "con.commit()\n",
    "con.close()\n",
    "\n",
    "engine2 = create_engine('sqlite:///edgar_htm_idx.db')\n",
    "with engine2.connect() as conn, conn.begin():\n",
    "    data30 = pd.read_sql_table('idx', conn)\n",
    "    \n",
    "dataourcomp1 = data30[data30['conm'].isin(ourcompanies)]\n",
    "dataourcomp1 = dataourcomp1[dataourcomp1['type'].isin(files)]\n",
    "\n",
    "#rearange\n",
    "dataourcomp1 = dataourcomp1[['cik','conm','type','date','path']]\n",
    "\n",
    "#save in csv\n",
    "dataourcomp1.to_csv('edgar_htm_idx.csv')\n",
    "\n",
    "#open the html \n",
    "with open('log09.csv', 'w', newline='') as log:\n",
    "    logwriter = csv.writer(log)\n",
    " \n",
    "    with open('edgar_htm_idx.csv', newline='') as infile:\n",
    "        records = csv.reader(infile)\n",
    " \n",
    "        for r in records:\n",
    "            log_row = r.copy()\n",
    "            print('Start fetching URL to', r[2], r[3], 'filed on', r[4], '...')\n",
    "            start_time = time.strftime('%Y-%m-%d %H:%M:%S', time.localtime())\n",
    " \n",
    "            driver = webdriver.Chrome('./chromedriver')\n",
    " \n",
    "            try:\n",
    "                driver.get(r[5])\n",
    "                #time.sleep(3 + random.random() * 3)\n",
    "                filing_date = driver.find_element_by_xpath('//*[@id=\"formDiv\"]/div[2]/div[1]/div[2]').text\n",
    "                period_of_report = driver.find_element_by_xpath('//*[@id=\"formDiv\"]/div[2]/div[2]/div[2]').text\n",
    "                form_text = driver.find_element_by_xpath('//*[@id=\"formDiv\"]/div/table/tbody/tr[2]/td[3]/a').text\n",
    "                form_link = driver.find_element_by_link_text(form_text).get_attribute('href')\n",
    "                end_time = time.strftime('%Y-%m-%d %H:%M:%S', time.localtime())\n",
    "                print('Success!', start_time, ' --> ', end_time, '\\n')\n",
    "                log_row = log_row + [start_time, end_time, filing_date, period_of_report, form_link]\n",
    " \n",
    "            except:\n",
    "                end_time = time.strftime('%Y-%m-%d %H:%M:%S', time.localtime())\n",
    "                print('Error!', start_time, ' --> ', end_time, '\\n')\n",
    "                log_row = log_row + [start_time, end_time, 'ERROR!']\n",
    " \n",
    "            driver.quit()\n",
    " \n",
    "            logwriter.writerow(log_row)\n",
    "#read csv\n",
    "FinalDataAnalysis1 = pd.read_csv('log09.csv')\n",
    "\n",
    "#Paths \n",
    "FFdata1 = FinalDataAnalysis1.iloc[:,8]\n",
    "\n",
    "# Actually obtain the text from requests via EDGAR, parsing using BS4 then text\n",
    "texts1 = [url_to_text(url) for url in FFdata1]\n",
    "\n",
    "# access index and value for a list\n",
    "for idx, val in enumerate(ourcompanies):\n",
    "    with open(val + \".pkl\", \"wb\") as f:\n",
    "        pickle.dump(texts1[idx], f)\n",
    "        \n",
    "# Load pickled files into a dictionary\n",
    "# Key: company name\n",
    "# value: parsed 10K text\n",
    "datacleaned1 = {}\n",
    "\n",
    "for _, val in enumerate(ourcompanies):\n",
    "    with open(val + \".pkl\", \"rb\") as f:\n",
    "        datacleaned1[val] = pickle.load(f)\n",
    "\n",
    "#Load dictionary\n",
    "df001 = pd.DataFrame.from_dict(datacleaned1, orient='index', columns = ['text'])\n",
    "\n",
    "# deal with reserved special html characters such as non-breaking space (`&nbsp`)\n",
    "html_chars = {'&lt': 'lt', '&#60': 'lt', \n",
    "              '&gt': 'gt', '&#62': 'gt',\n",
    "              '&nbsp': '', '&#160': '', \n",
    "              '&quot': '\"', '&#34': '\"', \n",
    "              '&apos': '\\'', '&#39': '\\'',\n",
    "              '&amp': '&', '&#38': '&'}\n",
    "df1 = pd.DataFrame(df001['text'].apply(clean_text_round2))\n",
    "\n",
    "#counts the constraining words \n",
    "df1['constraining_score'] = df1.iloc[:,0].apply(constraining_score)\n",
    "df1['word_count'] = df1.iloc[:,0].apply(total_word_count)\n",
    "df1['constraining_word_proportion'] = np.vectorize(constraining_word_prop)(df1['constraining_score'],df1['word_count'])\n",
    "\n",
    "#create our final table for the year\n",
    "year9 =df1.drop('text', axis=1)\n",
    "year9= year9.drop('constraining_score', axis=1)\n",
    "year9= year9.drop('word_count', axis=1)\n",
    "year9.index.name ='Company Name'\n",
    "year9 = year9.rename(index=str, columns ={'constraining_word_proportion':'%cons'})\n",
    "year9['permno'] = PERMNO\n",
    "year9['date'] = '2016-06-30'\n",
    "year9['ffyear'] = 2016"
   ]
  },
  {
   "cell_type": "code",
   "execution_count": null,
   "metadata": {},
   "outputs": [],
   "source": [
    "#2017"
   ]
  },
  {
   "cell_type": "code",
   "execution_count": null,
   "metadata": {},
   "outputs": [],
   "source": [
    "current_year = 2017\n",
    "current_quarter = 4 \n",
    "start_year = 2017\n",
    "\n",
    "\n",
    "years = list(range(start_year, current_year))\n",
    "quarters = ['QTR1', 'QTR2', 'QTR3', 'QTR4']\n",
    "history = [(y, q) for y in years for q in quarters]\n",
    "#Look to look into the time frame wanted\n",
    "for i in range(1, current_quarter + 1):\n",
    "    history.append((current_year, 'QTR%d' % i))\n",
    "urls = ['https://www.sec.gov/Archives/edgar/full-index/%d/%s/crawler.idx' % (x[0], x[1]) for x in history]\n",
    "urls.sort()\n",
    "\n",
    "#Pass via sqlite3 as is more efficient\n",
    "con = sqlite3.connect('edgar_htm_idx.db')\n",
    "cur = con.cursor()\n",
    "cur.execute('DROP TABLE IF EXISTS idx')\n",
    "cur.execute('CREATE TABLE idx (conm TEXT, type TEXT, cik TEXT, date TEXT, path TEXT)')\n",
    " \n",
    "for url in urls:\n",
    "    lines = requests.get(url).text.splitlines()\n",
    "    cikloc = lines[7].find('CIK')\n",
    "    nameloc = lines[7].find('Company Name')\n",
    "    typeloc = lines[7].find('Form Type')\n",
    "    dateloc = lines[7].find('Date Filed')\n",
    "    urlloc = lines[7].find('URL')\n",
    "    records = [tuple([line[:typeloc].strip(), line[typeloc:cikloc].strip(), line[cikloc:dateloc].strip(),\n",
    "                      line[dateloc:urlloc].strip(), line[urlloc:].strip()]) for line in lines[9:]]\n",
    "    cur.executemany('INSERT INTO idx VALUES (?, ?, ?, ?, ?)', records)\n",
    "    print(url, 'downloaded and wrote to SQLite')\n",
    " \n",
    "con.commit()\n",
    "con.close()\n",
    "\n",
    "engine2 = create_engine('sqlite:///edgar_htm_idx.db')\n",
    "with engine2.connect() as conn, conn.begin():\n",
    "    data30 = pd.read_sql_table('idx', conn)\n",
    "    \n",
    "dataourcomp1 = data30[data30['conm'].isin(ourcompanies)]\n",
    "dataourcomp1 = dataourcomp1[dataourcomp1['type'].isin(files)]\n",
    "\n",
    "#rearange\n",
    "dataourcomp1 = dataourcomp1[['cik','conm','type','date','path']]\n",
    "\n",
    "#save in csv\n",
    "dataourcomp1.to_csv('edgar_htm_idx.csv')\n",
    "\n",
    "#open the html \n",
    "with open('log09.csv', 'w', newline='') as log:\n",
    "    logwriter = csv.writer(log)\n",
    " \n",
    "    with open('edgar_htm_idx.csv', newline='') as infile:\n",
    "        records = csv.reader(infile)\n",
    " \n",
    "        for r in records:\n",
    "            log_row = r.copy()\n",
    "            print('Start fetching URL to', r[2], r[3], 'filed on', r[4], '...')\n",
    "            start_time = time.strftime('%Y-%m-%d %H:%M:%S', time.localtime())\n",
    " \n",
    "            driver = webdriver.Chrome('./chromedriver')\n",
    " \n",
    "            try:\n",
    "                driver.get(r[5])\n",
    "                #time.sleep(3 + random.random() * 3)\n",
    "                filing_date = driver.find_element_by_xpath('//*[@id=\"formDiv\"]/div[2]/div[1]/div[2]').text\n",
    "                period_of_report = driver.find_element_by_xpath('//*[@id=\"formDiv\"]/div[2]/div[2]/div[2]').text\n",
    "                form_text = driver.find_element_by_xpath('//*[@id=\"formDiv\"]/div/table/tbody/tr[2]/td[3]/a').text\n",
    "                form_link = driver.find_element_by_link_text(form_text).get_attribute('href')\n",
    "                end_time = time.strftime('%Y-%m-%d %H:%M:%S', time.localtime())\n",
    "                print('Success!', start_time, ' --> ', end_time, '\\n')\n",
    "                log_row = log_row + [start_time, end_time, filing_date, period_of_report, form_link]\n",
    " \n",
    "            except:\n",
    "                end_time = time.strftime('%Y-%m-%d %H:%M:%S', time.localtime())\n",
    "                print('Error!', start_time, ' --> ', end_time, '\\n')\n",
    "                log_row = log_row + [start_time, end_time, 'ERROR!']\n",
    " \n",
    "            driver.quit()\n",
    " \n",
    "            logwriter.writerow(log_row)\n",
    "#read csv\n",
    "FinalDataAnalysis1 = pd.read_csv('log09.csv')\n",
    "\n",
    "#Paths \n",
    "FFdata1 = FinalDataAnalysis1.iloc[:,8]\n",
    "\n",
    "# Actually obtain the text from requests via EDGAR, parsing using BS4 then text\n",
    "texts1 = [url_to_text(url) for url in FFdata1]\n",
    "\n",
    "# access index and value for a list\n",
    "for idx, val in enumerate(ourcompanies):\n",
    "    with open(val + \".pkl\", \"wb\") as f:\n",
    "        pickle.dump(texts1[idx], f)\n",
    "        \n",
    "# Load pickled files into a dictionary\n",
    "# Key: company name\n",
    "# value: parsed 10K text\n",
    "datacleaned1 = {}\n",
    "\n",
    "for _, val in enumerate(ourcompanies):\n",
    "    with open(val + \".pkl\", \"rb\") as f:\n",
    "        datacleaned1[val] = pickle.load(f)\n",
    "\n",
    "#Load dictionary\n",
    "df001 = pd.DataFrame.from_dict(datacleaned1, orient='index', columns = ['text'])\n",
    "\n",
    "# deal with reserved special html characters such as non-breaking space (`&nbsp`)\n",
    "html_chars = {'&lt': 'lt', '&#60': 'lt', \n",
    "              '&gt': 'gt', '&#62': 'gt',\n",
    "              '&nbsp': '', '&#160': '', \n",
    "              '&quot': '\"', '&#34': '\"', \n",
    "              '&apos': '\\'', '&#39': '\\'',\n",
    "              '&amp': '&', '&#38': '&'}\n",
    "df1 = pd.DataFrame(df001['text'].apply(clean_text_round2))\n",
    "\n",
    "#counts the constraining words \n",
    "df1['constraining_score'] = df1.iloc[:,0].apply(constraining_score)\n",
    "df1['word_count'] = df1.iloc[:,0].apply(total_word_count)\n",
    "df1['constraining_word_proportion'] = np.vectorize(constraining_word_prop)(df1['constraining_score'],df1['word_count'])\n",
    "\n",
    "#create our final table for the year\n",
    "year10 =df1.drop('text', axis=1)\n",
    "year10= year10.drop('constraining_score', axis=1)\n",
    "year10= year10.drop('word_count', axis=1)\n",
    "year10.index.name ='Company Name'\n",
    "year10 = year10.rename(index=str, columns ={'constraining_word_proportion':'%cons'})\n",
    "year10['permno'] = PERMNO\n",
    "year10['date'] = '2017-06-30'\n",
    "year10['ffyear'] = 2017"
   ]
  },
  {
   "cell_type": "code",
   "execution_count": null,
   "metadata": {},
   "outputs": [],
   "source": [
    "#2018"
   ]
  },
  {
   "cell_type": "code",
   "execution_count": null,
   "metadata": {},
   "outputs": [],
   "source": [
    "current_year = 2018\n",
    "current_quarter = 4 \n",
    "start_year = 2018\n",
    "\n",
    "\n",
    "years = list(range(start_year, current_year))\n",
    "quarters = ['QTR1', 'QTR2', 'QTR3', 'QTR4']\n",
    "history = [(y, q) for y in years for q in quarters]\n",
    "#Look to look into the time frame wanted\n",
    "for i in range(1, current_quarter + 1):\n",
    "    history.append((current_year, 'QTR%d' % i))\n",
    "urls = ['https://www.sec.gov/Archives/edgar/full-index/%d/%s/crawler.idx' % (x[0], x[1]) for x in history]\n",
    "urls.sort()\n",
    "\n",
    "#Pass via sqlite3 as is more efficient\n",
    "con = sqlite3.connect('edgar_htm_idx.db')\n",
    "cur = con.cursor()\n",
    "cur.execute('DROP TABLE IF EXISTS idx')\n",
    "cur.execute('CREATE TABLE idx (conm TEXT, type TEXT, cik TEXT, date TEXT, path TEXT)')\n",
    " \n",
    "for url in urls:\n",
    "    lines = requests.get(url).text.splitlines()\n",
    "    cikloc = lines[7].find('CIK')\n",
    "    nameloc = lines[7].find('Company Name')\n",
    "    typeloc = lines[7].find('Form Type')\n",
    "    dateloc = lines[7].find('Date Filed')\n",
    "    urlloc = lines[7].find('URL')\n",
    "    records = [tuple([line[:typeloc].strip(), line[typeloc:cikloc].strip(), line[cikloc:dateloc].strip(),\n",
    "                      line[dateloc:urlloc].strip(), line[urlloc:].strip()]) for line in lines[9:]]\n",
    "    cur.executemany('INSERT INTO idx VALUES (?, ?, ?, ?, ?)', records)\n",
    "    print(url, 'downloaded and wrote to SQLite')\n",
    " \n",
    "con.commit()\n",
    "con.close()\n",
    "\n",
    "engine2 = create_engine('sqlite:///edgar_htm_idx.db')\n",
    "with engine2.connect() as conn, conn.begin():\n",
    "    data30 = pd.read_sql_table('idx', conn)\n",
    "    \n",
    "dataourcomp1 = data30[data30['conm'].isin(ourcompanies)]\n",
    "dataourcomp1 = dataourcomp1[dataourcomp1['type'].isin(files)]\n",
    "\n",
    "#rearange\n",
    "dataourcomp1 = dataourcomp1[['cik','conm','type','date','path']]\n",
    "\n",
    "#save in csv\n",
    "dataourcomp1.to_csv('edgar_htm_idx.csv')\n",
    "\n",
    "#open the html \n",
    "with open('log09.csv', 'w', newline='') as log:\n",
    "    logwriter = csv.writer(log)\n",
    " \n",
    "    with open('edgar_htm_idx.csv', newline='') as infile:\n",
    "        records = csv.reader(infile)\n",
    " \n",
    "        for r in records:\n",
    "            log_row = r.copy()\n",
    "            print('Start fetching URL to', r[2], r[3], 'filed on', r[4], '...')\n",
    "            start_time = time.strftime('%Y-%m-%d %H:%M:%S', time.localtime())\n",
    " \n",
    "            driver = webdriver.Chrome('./chromedriver')\n",
    " \n",
    "            try:\n",
    "                driver.get(r[5])\n",
    "                #time.sleep(3 + random.random() * 3)\n",
    "                filing_date = driver.find_element_by_xpath('//*[@id=\"formDiv\"]/div[2]/div[1]/div[2]').text\n",
    "                period_of_report = driver.find_element_by_xpath('//*[@id=\"formDiv\"]/div[2]/div[2]/div[2]').text\n",
    "                form_text = driver.find_element_by_xpath('//*[@id=\"formDiv\"]/div/table/tbody/tr[2]/td[3]/a').text\n",
    "                form_link = driver.find_element_by_link_text(form_text).get_attribute('href')\n",
    "                end_time = time.strftime('%Y-%m-%d %H:%M:%S', time.localtime())\n",
    "                print('Success!', start_time, ' --> ', end_time, '\\n')\n",
    "                log_row = log_row + [start_time, end_time, filing_date, period_of_report, form_link]\n",
    " \n",
    "            except:\n",
    "                end_time = time.strftime('%Y-%m-%d %H:%M:%S', time.localtime())\n",
    "                print('Error!', start_time, ' --> ', end_time, '\\n')\n",
    "                log_row = log_row + [start_time, end_time, 'ERROR!']\n",
    " \n",
    "            driver.quit()\n",
    " \n",
    "            logwriter.writerow(log_row)\n",
    "#read csv\n",
    "FinalDataAnalysis1 = pd.read_csv('log09.csv')\n",
    "\n",
    "#Paths \n",
    "FFdata1 = FinalDataAnalysis1.iloc[:,8]\n",
    "\n",
    "# Actually obtain the text from requests via EDGAR, parsing using BS4 then text\n",
    "texts1 = [url_to_text(url) for url in FFdata1]\n",
    "\n",
    "# access index and value for a list\n",
    "for idx, val in enumerate(ourcompanies):\n",
    "    with open(val + \".pkl\", \"wb\") as f:\n",
    "        pickle.dump(texts1[idx], f)\n",
    "        \n",
    "# Load pickled files into a dictionary\n",
    "# Key: company name\n",
    "# value: parsed 10K text\n",
    "datacleaned1 = {}\n",
    "\n",
    "for _, val in enumerate(ourcompanies):\n",
    "    with open(val + \".pkl\", \"rb\") as f:\n",
    "        datacleaned1[val] = pickle.load(f)\n",
    "\n",
    "#Load dictionary\n",
    "df001 = pd.DataFrame.from_dict(datacleaned1, orient='index', columns = ['text'])\n",
    "\n",
    "# deal with reserved special html characters such as non-breaking space (`&nbsp`)\n",
    "html_chars = {'&lt': 'lt', '&#60': 'lt', \n",
    "              '&gt': 'gt', '&#62': 'gt',\n",
    "              '&nbsp': '', '&#160': '', \n",
    "              '&quot': '\"', '&#34': '\"', \n",
    "              '&apos': '\\'', '&#39': '\\'',\n",
    "              '&amp': '&', '&#38': '&'}\n",
    "df1 = pd.DataFrame(df001['text'].apply(clean_text_round2))\n",
    "\n",
    "#counts the constraining words \n",
    "df1['constraining_score'] = df1.iloc[:,0].apply(constraining_score)\n",
    "df1['word_count'] = df1.iloc[:,0].apply(total_word_count)\n",
    "df1['constraining_word_proportion'] = np.vectorize(constraining_word_prop)(df1['constraining_score'],df1['word_count'])\n",
    "\n",
    "#create our final table for the year\n",
    "year11 =df1.drop('text', axis=1)\n",
    "year11= year11.drop('constraining_score', axis=1)\n",
    "year11= year11.drop('word_count', axis=1)\n",
    "year11.index.name ='Company Name'\n",
    "year11 = year11.rename(index=str, columns ={'constraining_word_proportion':'%cons'})\n",
    "year11['permno'] =PERMNO\n",
    "year11['date'] = '2018-06-30'\n",
    "year11['ffyear'] = 2018"
   ]
  },
  {
   "cell_type": "code",
   "execution_count": null,
   "metadata": {},
   "outputs": [],
   "source": [
    "CONSTRAINTD = pd.concat([year1,year2,year3,year4,year5,year6,year7,year8,year9,year10,year11])\n",
    "CONSTRAINTD.head()"
   ]
  },
  {
   "cell_type": "code",
   "execution_count": null,
   "metadata": {},
   "outputs": [],
   "source": [
    "CONSTRAINTD.columns = ['%cons','permno','jdate','year']\n",
    "CONSTRAINTD.head()"
   ]
  },
  {
   "cell_type": "code",
   "execution_count": null,
   "metadata": {
    "scrolled": true
   },
   "outputs": [],
   "source": [
    "CONSTRAINTD= CONSTRAINTD.reset_index(drop=True)\n",
    "CONSTRAINTD.sort_values(['permno','jdate'],ascending=[True,True],inplace=True)\n",
    "CONSTRAINTD =pd.DataFrame(CONSTRAINTD)\n",
    "CONSTRAINTD.reset_index()"
   ]
  },
  {
   "cell_type": "code",
   "execution_count": null,
   "metadata": {},
   "outputs": [],
   "source": [
    "CONSTRAINTD=CONSTRAINTD.astype({\"permno\":int, \"jdate\":np.datetime64})"
   ]
  },
  {
   "cell_type": "code",
   "execution_count": null,
   "metadata": {},
   "outputs": [],
   "source": [
    "CONSTRAINTD=pd.DataFrame(CONSTRAINTD)\n",
    "\n",
    "nyse1=pd.merge(nyse,CONSTRAINTD, how='left', on=['permno','jdate'])\n"
   ]
  },
  {
   "cell_type": "code",
   "execution_count": null,
   "metadata": {},
   "outputs": [],
   "source": [
    "ccm1_jun2=pd.merge(ccm1_jun,CONSTRAINTD, how='left', on=['permno','jdate'])\n"
   ]
  },
  {
   "cell_type": "code",
   "execution_count": null,
   "metadata": {},
   "outputs": [],
   "source": [
    "#Constraints breakdown\n",
    "nyse_constraint = nyse1.groupby(['jdate'])['%cons'].describe(percentiles=[0.3,0.7]).reset_index()\n",
    "nyse_constraint=nyse_constraint[['jdate','30%','70%']].rename(columns={'30%':'Cons30', '70%':'Cons70'})\n"
   ]
  },
  {
   "cell_type": "code",
   "execution_count": null,
   "metadata": {},
   "outputs": [],
   "source": [
    "ccm1_jun2 = pd.merge(ccm1_jun2, nyse_constraint, how='left', on=['jdate'])"
   ]
  },
  {
   "cell_type": "code",
   "execution_count": null,
   "metadata": {},
   "outputs": [],
   "source": [
    "ccm1_jun2.head()"
   ]
  },
  {
   "cell_type": "code",
   "execution_count": null,
   "metadata": {},
   "outputs": [],
   "source": [
    "def constraints_bucket(row):\n",
    "    if row['%cons']<=row['Cons30']:\n",
    "        value = 'NC'\n",
    "    elif row['%cons']<=row['Cons70']:\n",
    "        value='MC'\n",
    "    elif row['%cons']>row['Cons70']:\n",
    "        value='HC'\n",
    "    else:\n",
    "        value=''\n",
    "    return value"
   ]
  },
  {
   "cell_type": "code",
   "execution_count": null,
   "metadata": {},
   "outputs": [],
   "source": []
  },
  {
   "cell_type": "code",
   "execution_count": null,
   "metadata": {},
   "outputs": [],
   "source": [
    "# assign size portfolio\n",
    "#ccm1_jun2['constraintport'] = np.where((ccm1_jun2['beme']>0) & \n",
    "            #                (ccm1_jun2['me']>0) & \n",
    "                    #        (ccm1_jun2['count']>=1), \n",
    "                       #     ccm1_jun2.apply(constraints_bucket, axis=1), '')\n",
    "june = ccm1_jun2[['permno','date', 'jdate','constraintport','momentumport','profitport','bmport','investport','szport','at','posbm','OpProfitonEquity','nonmissport']]\n",
    "june['ffyear'] = june['jdate'].dt.year\n",
    "june.head()"
   ]
  },
  {
   "cell_type": "code",
   "execution_count": null,
   "metadata": {},
   "outputs": [],
   "source": [
    "crsp3 = crsp3[['date','permno','shrcd','exchcd','retadj',\n",
    "               'me','wt','cumretx','ffyear','jdate']]\n",
    "ccm3=pd.merge(crsp3, \n",
    "              june[['permno','ffyear','constraintport','momentumport','profitport','bmport','investport','szport','at','posbm','OpProfitonEquity','nonmissport']], \n",
    "              how='left', \n",
    "              on=['permno','ffyear'])\n",
    "# keeping only records that meet the criteria\n",
    "ccm4=ccm3[(ccm3['wt']>0) & \n",
    "          (ccm3['posbm']==1) &\n",
    "          (ccm3['nonmissport']==1) & \n",
    "          ((ccm3['shrcd']==10) | (ccm3['shrcd']==11))]"
   ]
  },
  {
   "cell_type": "code",
   "execution_count": null,
   "metadata": {},
   "outputs": [],
   "source": [
    "ccm4"
   ]
  },
  {
   "cell_type": "code",
   "execution_count": null,
   "metadata": {},
   "outputs": [],
   "source": [
    "# Pairs of size and constraints\n",
    "vwret10 = ccm4.groupby(['jdate','szport','constraintport']).apply(wavg, 'retadj', 'wt').to_frame().reset_index().rename(columns={0: 'vwret'})\n",
    "vwret10['SCport'] = vwret10['szport'] + vwret10['constraintport'] # <= concat string\n",
    "\n",
    "# firm count\n",
    "vwret_n10 = ccm4.groupby(['jdate','szport','constraintport'])['retadj'].count().reset_index().rename(columns={'retadj':'n_firms'})\n",
    "vwret_n10['SCport'] = vwret_n10['szport'] + vwret_n10['constraintport']\n",
    "\n",
    "# preliminary results\n",
    "# really is transposing the data: use date as index, columns is sbport, values is weighted average\n",
    "ff_factors10 = vwret10.pivot(index='jdate', columns='SCport', values='vwret').reset_index()\n",
    "ff_nfirms10 = vwret_n10.pivot(index='jdate', columns='SCport', values='n_firms').reset_index()"
   ]
  },
  {
   "cell_type": "code",
   "execution_count": null,
   "metadata": {},
   "outputs": [],
   "source": [
    "ff_factors10['LowConst']=(ff_factors10['SNC']+ff_factors10['BNC'])/2\n",
    "ff_factors10['HighConst']=(ff_factors10['SHC']+ff_factors10['BHC'])/2\n",
    "ff_factors10['ConstF'] = ff_factors10['LowConst']-ff_factors10['HighConst']\n",
    "\n",
    "factors7model = pd.merge(FinalData[['date','Momentum','WSMB','WHML','WRW','WCA','mktrf','rf','ExcessRetPort']],ff_factors10[['ConstF']], how='inner', left_index=True, right_index=True)\n"
   ]
  },
  {
   "cell_type": "code",
   "execution_count": null,
   "metadata": {},
   "outputs": [],
   "source": [
    "factors7model"
   ]
  },
  {
   "cell_type": "code",
   "execution_count": null,
   "metadata": {},
   "outputs": [],
   "source": [
    "## Summary statistics"
   ]
  },
  {
   "cell_type": "code",
   "execution_count": null,
   "metadata": {},
   "outputs": [],
   "source": [
    "factors7model['ConstF'].describe()"
   ]
  },
  {
   "cell_type": "code",
   "execution_count": null,
   "metadata": {
    "scrolled": true
   },
   "outputs": [],
   "source": [
    "factors7model.corr()"
   ]
  },
  {
   "cell_type": "markdown",
   "metadata": {},
   "source": [
    "# Fama french 3 factors and financial constraints"
   ]
  },
  {
   "cell_type": "code",
   "execution_count": null,
   "metadata": {},
   "outputs": [],
   "source": [
    "resultsffConstF3 = sm.ols(formula = 'ExcessRetPort ~ mktrf+WSMB+WHML+ConstF ',data = factors7model).fit()\n",
    "print(resultsffConstF3.params)"
   ]
  },
  {
   "cell_type": "code",
   "execution_count": null,
   "metadata": {},
   "outputs": [],
   "source": [
    "print(resultsffConstF3.summary())"
   ]
  },
  {
   "cell_type": "markdown",
   "metadata": {},
   "source": [
    "# Fama french 6 factors and financial constraints"
   ]
  },
  {
   "cell_type": "code",
   "execution_count": null,
   "metadata": {},
   "outputs": [],
   "source": [
    "resultsffConstF6 = sm.ols(formula = 'ExcessRetPort ~ mktrf+WSMB+WHML+WRW+WCA+Momentum+ConstF ',data = factors7model).fit()\n",
    "print(resultsffConstF6.params)"
   ]
  },
  {
   "cell_type": "code",
   "execution_count": null,
   "metadata": {},
   "outputs": [],
   "source": [
    "print(resultsffConstF6.summary())"
   ]
  },
  {
   "cell_type": "code",
   "execution_count": null,
   "metadata": {},
   "outputs": [],
   "source": []
  }
 ],
 "metadata": {
  "kernelspec": {
   "display_name": "Python 3",
   "language": "python",
   "name": "python3"
  },
  "language_info": {
   "codemirror_mode": {
    "name": "ipython",
    "version": 3
   },
   "file_extension": ".py",
   "mimetype": "text/x-python",
   "name": "python",
   "nbconvert_exporter": "python",
   "pygments_lexer": "ipython3",
   "version": "3.7.6"
  }
 },
 "nbformat": 4,
 "nbformat_minor": 2
}
